{
 "cells": [
  {
   "cell_type": "markdown",
   "id": "588a1eba",
   "metadata": {},
   "source": [
    "# House Sale Price Prediction"
   ]
  },
  {
   "cell_type": "code",
   "execution_count": 2,
   "id": "b71d2932",
   "metadata": {},
   "outputs": [],
   "source": [
    "#We Begin by importing the necessary libraries.\n",
    "\n",
    "import pandas as pd\n",
    "import numpy as np\n",
    "import ast\n",
    "import seaborn as sns\n",
    "import matplotlib.pyplot as plt\n",
    "\n",
    "from sklearn import metrics\n",
    "from sklearn.metrics import confusion_matrix, classification_report, roc_auc_score\n",
    "from sklearn.model_selection import train_test_split\n",
    "from sklearn.ensemble import RandomForestRegressor\n",
    "from sklearn.linear_model import LinearRegression\n",
    "from sklearn import datasets, linear_model\n",
    "from sklearn.metrics import mean_squared_error, r2_score\n",
    "from sklearn.ensemble import GradientBoostingRegressor \n",
    "from collections import Counter\n",
    "from pdpbox.pdp import pdp_isolate, pdp_plot\n",
    "from sklearn.metrics import accuracy_score\n",
    "\n",
    "%matplotlib inline"
   ]
  },
  {
   "cell_type": "markdown",
   "id": "b1793119",
   "metadata": {},
   "source": [
    "## Part 1 - Data Exploration"
   ]
  },
  {
   "cell_type": "code",
   "execution_count": 3,
   "id": "8c130817",
   "metadata": {},
   "outputs": [
    {
     "name": "stdout",
     "output_type": "stream",
     "text": [
      "(1460, 81)\n",
      "(1459, 80)\n"
     ]
    }
   ],
   "source": [
    "train = pd.read_csv(\"train.csv\", low_memory=False)\n",
    "test = pd.read_csv(\"test.csv\", low_memory=False)\n",
    "\n",
    "print(train.shape)\n",
    "print(test.shape)"
   ]
  },
  {
   "cell_type": "code",
   "execution_count": 4,
   "id": "87d7cf8c",
   "metadata": {},
   "outputs": [
    {
     "data": {
      "text/html": [
       "<div>\n",
       "<style scoped>\n",
       "    .dataframe tbody tr th:only-of-type {\n",
       "        vertical-align: middle;\n",
       "    }\n",
       "\n",
       "    .dataframe tbody tr th {\n",
       "        vertical-align: top;\n",
       "    }\n",
       "\n",
       "    .dataframe thead th {\n",
       "        text-align: right;\n",
       "    }\n",
       "</style>\n",
       "<table border=\"1\" class=\"dataframe\">\n",
       "  <thead>\n",
       "    <tr style=\"text-align: right;\">\n",
       "      <th></th>\n",
       "      <th>Id</th>\n",
       "      <th>MSSubClass</th>\n",
       "      <th>MSZoning</th>\n",
       "      <th>LotFrontage</th>\n",
       "      <th>LotArea</th>\n",
       "      <th>Street</th>\n",
       "      <th>Alley</th>\n",
       "      <th>LotShape</th>\n",
       "      <th>LandContour</th>\n",
       "      <th>Utilities</th>\n",
       "      <th>...</th>\n",
       "      <th>PoolArea</th>\n",
       "      <th>PoolQC</th>\n",
       "      <th>Fence</th>\n",
       "      <th>MiscFeature</th>\n",
       "      <th>MiscVal</th>\n",
       "      <th>MoSold</th>\n",
       "      <th>YrSold</th>\n",
       "      <th>SaleType</th>\n",
       "      <th>SaleCondition</th>\n",
       "      <th>SalePrice</th>\n",
       "    </tr>\n",
       "  </thead>\n",
       "  <tbody>\n",
       "    <tr>\n",
       "      <th>0</th>\n",
       "      <td>1</td>\n",
       "      <td>60</td>\n",
       "      <td>RL</td>\n",
       "      <td>65.0</td>\n",
       "      <td>8450</td>\n",
       "      <td>Pave</td>\n",
       "      <td>NaN</td>\n",
       "      <td>Reg</td>\n",
       "      <td>Lvl</td>\n",
       "      <td>AllPub</td>\n",
       "      <td>...</td>\n",
       "      <td>0</td>\n",
       "      <td>NaN</td>\n",
       "      <td>NaN</td>\n",
       "      <td>NaN</td>\n",
       "      <td>0</td>\n",
       "      <td>2</td>\n",
       "      <td>2008</td>\n",
       "      <td>WD</td>\n",
       "      <td>Normal</td>\n",
       "      <td>208500</td>\n",
       "    </tr>\n",
       "    <tr>\n",
       "      <th>1</th>\n",
       "      <td>2</td>\n",
       "      <td>20</td>\n",
       "      <td>RL</td>\n",
       "      <td>80.0</td>\n",
       "      <td>9600</td>\n",
       "      <td>Pave</td>\n",
       "      <td>NaN</td>\n",
       "      <td>Reg</td>\n",
       "      <td>Lvl</td>\n",
       "      <td>AllPub</td>\n",
       "      <td>...</td>\n",
       "      <td>0</td>\n",
       "      <td>NaN</td>\n",
       "      <td>NaN</td>\n",
       "      <td>NaN</td>\n",
       "      <td>0</td>\n",
       "      <td>5</td>\n",
       "      <td>2007</td>\n",
       "      <td>WD</td>\n",
       "      <td>Normal</td>\n",
       "      <td>181500</td>\n",
       "    </tr>\n",
       "    <tr>\n",
       "      <th>2</th>\n",
       "      <td>3</td>\n",
       "      <td>60</td>\n",
       "      <td>RL</td>\n",
       "      <td>68.0</td>\n",
       "      <td>11250</td>\n",
       "      <td>Pave</td>\n",
       "      <td>NaN</td>\n",
       "      <td>IR1</td>\n",
       "      <td>Lvl</td>\n",
       "      <td>AllPub</td>\n",
       "      <td>...</td>\n",
       "      <td>0</td>\n",
       "      <td>NaN</td>\n",
       "      <td>NaN</td>\n",
       "      <td>NaN</td>\n",
       "      <td>0</td>\n",
       "      <td>9</td>\n",
       "      <td>2008</td>\n",
       "      <td>WD</td>\n",
       "      <td>Normal</td>\n",
       "      <td>223500</td>\n",
       "    </tr>\n",
       "    <tr>\n",
       "      <th>3</th>\n",
       "      <td>4</td>\n",
       "      <td>70</td>\n",
       "      <td>RL</td>\n",
       "      <td>60.0</td>\n",
       "      <td>9550</td>\n",
       "      <td>Pave</td>\n",
       "      <td>NaN</td>\n",
       "      <td>IR1</td>\n",
       "      <td>Lvl</td>\n",
       "      <td>AllPub</td>\n",
       "      <td>...</td>\n",
       "      <td>0</td>\n",
       "      <td>NaN</td>\n",
       "      <td>NaN</td>\n",
       "      <td>NaN</td>\n",
       "      <td>0</td>\n",
       "      <td>2</td>\n",
       "      <td>2006</td>\n",
       "      <td>WD</td>\n",
       "      <td>Abnorml</td>\n",
       "      <td>140000</td>\n",
       "    </tr>\n",
       "    <tr>\n",
       "      <th>4</th>\n",
       "      <td>5</td>\n",
       "      <td>60</td>\n",
       "      <td>RL</td>\n",
       "      <td>84.0</td>\n",
       "      <td>14260</td>\n",
       "      <td>Pave</td>\n",
       "      <td>NaN</td>\n",
       "      <td>IR1</td>\n",
       "      <td>Lvl</td>\n",
       "      <td>AllPub</td>\n",
       "      <td>...</td>\n",
       "      <td>0</td>\n",
       "      <td>NaN</td>\n",
       "      <td>NaN</td>\n",
       "      <td>NaN</td>\n",
       "      <td>0</td>\n",
       "      <td>12</td>\n",
       "      <td>2008</td>\n",
       "      <td>WD</td>\n",
       "      <td>Normal</td>\n",
       "      <td>250000</td>\n",
       "    </tr>\n",
       "  </tbody>\n",
       "</table>\n",
       "<p>5 rows × 81 columns</p>\n",
       "</div>"
      ],
      "text/plain": [
       "   Id  MSSubClass MSZoning  LotFrontage  LotArea Street Alley LotShape  \\\n",
       "0   1          60       RL         65.0     8450   Pave   NaN      Reg   \n",
       "1   2          20       RL         80.0     9600   Pave   NaN      Reg   \n",
       "2   3          60       RL         68.0    11250   Pave   NaN      IR1   \n",
       "3   4          70       RL         60.0     9550   Pave   NaN      IR1   \n",
       "4   5          60       RL         84.0    14260   Pave   NaN      IR1   \n",
       "\n",
       "  LandContour Utilities  ... PoolArea PoolQC Fence MiscFeature MiscVal MoSold  \\\n",
       "0         Lvl    AllPub  ...        0    NaN   NaN         NaN       0      2   \n",
       "1         Lvl    AllPub  ...        0    NaN   NaN         NaN       0      5   \n",
       "2         Lvl    AllPub  ...        0    NaN   NaN         NaN       0      9   \n",
       "3         Lvl    AllPub  ...        0    NaN   NaN         NaN       0      2   \n",
       "4         Lvl    AllPub  ...        0    NaN   NaN         NaN       0     12   \n",
       "\n",
       "  YrSold  SaleType  SaleCondition  SalePrice  \n",
       "0   2008        WD         Normal     208500  \n",
       "1   2007        WD         Normal     181500  \n",
       "2   2008        WD         Normal     223500  \n",
       "3   2006        WD        Abnorml     140000  \n",
       "4   2008        WD         Normal     250000  \n",
       "\n",
       "[5 rows x 81 columns]"
      ]
     },
     "execution_count": 4,
     "metadata": {},
     "output_type": "execute_result"
    }
   ],
   "source": [
    "df = train\n",
    "df.head()"
   ]
  },
  {
   "cell_type": "markdown",
   "id": "3075dac8",
   "metadata": {},
   "source": [
    "## Part 1.5 - Initial Impressions"
   ]
  },
  {
   "cell_type": "markdown",
   "id": "38cfd0c2",
   "metadata": {},
   "source": [
    "#### Lets start by looking at Dates"
   ]
  },
  {
   "cell_type": "code",
   "execution_count": 5,
   "id": "9c012bc6",
   "metadata": {},
   "outputs": [
    {
     "data": {
      "text/plain": [
       "<seaborn.axisgrid.FacetGrid at 0x7fb2c0045040>"
      ]
     },
     "execution_count": 5,
     "metadata": {},
     "output_type": "execute_result"
    },
    {
     "data": {
      "image/png": "[encoded data removed]",
      "text/plain": [
       "<Figure size 360x360 with 1 Axes>"
      ]
     },
     "metadata": {
      "needs_background": "light"
     },
     "output_type": "display_data"
    }
   ],
   "source": [
    "sns.catplot(data=train, kind=\"bar\", x=\"YrSold\", y=\"SalePrice\")"
   ]
  },
  {
   "cell_type": "markdown",
   "id": "cf0c46f2",
   "metadata": {},
   "source": [
    "The first thing to look for when you see Housing Prices during this period is how much the depression during 2008 affected prices. We can see that represented here because prices rise from 2006-2007, but fall from 2007-2008."
   ]
  },
  {
   "cell_type": "code",
   "execution_count": 6,
   "id": "6da3cb45",
   "metadata": {},
   "outputs": [
    {
     "data": {
      "text/plain": [
       "<seaborn.axisgrid.FacetGrid at 0x7fb2f1ce0160>"
      ]
     },
     "execution_count": 6,
     "metadata": {},
     "output_type": "execute_result"
    },
    {
     "data": {
      "image/png": "[encoded data removed]",
      "text/plain": [
       "<Figure size 360x360 with 1 Axes>"
      ]
     },
     "metadata": {
      "needs_background": "light"
     },
     "output_type": "display_data"
    },
    {
     "data": {
      "image/png": "[encoded data removed]",
      "text/plain": [
       "<Figure size 360x360 with 1 Axes>"
      ]
     },
     "metadata": {
      "needs_background": "light"
     },
     "output_type": "display_data"
    }
   ],
   "source": [
    "sns.relplot(data=train, kind=\"line\", x=\"YearBuilt\", y=\"SalePrice\")\n",
    "sns.relplot(data=train, kind=\"line\", x=\"YearRemodAdd\", y=\"SalePrice\")"
   ]
  },
  {
   "cell_type": "markdown",
   "id": "e560c52f",
   "metadata": {},
   "source": [
    "We see a few interesting trends here. Houses built during the late 1900s, as well as houses built during 1930s sell for more than those around their time. The remodel chart is much more standard and we can see that the houses that were remodeled later almost always sold for more."
   ]
  },
  {
   "cell_type": "markdown",
   "id": "0fa8e156",
   "metadata": {},
   "source": [
    "#### Now lets look at Conditions of the properties"
   ]
  },
  {
   "cell_type": "code",
   "execution_count": 7,
   "id": "75cdddc7",
   "metadata": {},
   "outputs": [
    {
     "data": {
      "text/plain": [
       "<seaborn.axisgrid.FacetGrid at 0x7fb2f1e9d0d0>"
      ]
     },
     "execution_count": 7,
     "metadata": {},
     "output_type": "execute_result"
    },
    {
     "data": {
      "image/png": "[encoded data removed]",
      "text/plain": [
       "<Figure size 360x360 with 1 Axes>"
      ]
     },
     "metadata": {
      "needs_background": "light"
     },
     "output_type": "display_data"
    }
   ],
   "source": [
    "sns.catplot(data=train, kind=\"bar\", x=\"SaleCondition\", y=\"SalePrice\")"
   ]
  },
  {
   "cell_type": "markdown",
   "id": "fef74679",
   "metadata": {},
   "source": [
    "The data continues to look normal here. Partial sales (which is listed as homes that are new) seem to sell for the most, while abnormal sales such as foreclosers sell for the lowest amount."
   ]
  },
  {
   "cell_type": "code",
   "execution_count": 8,
   "id": "ecc7dc5b",
   "metadata": {},
   "outputs": [
    {
     "data": {
      "text/plain": [
       "<seaborn.axisgrid.FacetGrid at 0x7fb31277ca60>"
      ]
     },
     "execution_count": 8,
     "metadata": {},
     "output_type": "execute_result"
    },
    {
     "data": {
      "image/png": "[encoded data removed]",
      "text/plain": [
       "<Figure size 360x360 with 1 Axes>"
      ]
     },
     "metadata": {
      "needs_background": "light"
     },
     "output_type": "display_data"
    }
   ],
   "source": [
    "sns.catplot(data=train, kind=\"bar\", x=\"OverallCond\", y=\"SalePrice\")"
   ]
  },
  {
   "cell_type": "markdown",
   "id": "6ccc85d8",
   "metadata": {},
   "source": [
    "Here, we see a large amount of variation within the houses sold with a rating of 2 and 9. Lets explore further."
   ]
  },
  {
   "cell_type": "code",
   "execution_count": 9,
   "id": "d601c0b9",
   "metadata": {},
   "outputs": [
    {
     "data": {
      "text/plain": [
       "<seaborn.axisgrid.FacetGrid at 0x7fb320c541f0>"
      ]
     },
     "execution_count": 9,
     "metadata": {},
     "output_type": "execute_result"
    },
    {
     "data": {
      "image/png": "[encoded data removed]",
      "text/plain": [
       "<Figure size 438x360 with 1 Axes>"
      ]
     },
     "metadata": {
      "needs_background": "light"
     },
     "output_type": "display_data"
    }
   ],
   "source": [
    "sns.catplot(data=train, kind=\"bar\", x=\"OverallCond\", y=\"SalePrice\", hue=\"SaleCondition\")"
   ]
  },
  {
   "cell_type": "markdown",
   "id": "79f31745",
   "metadata": {},
   "source": [
    "Now we can see that there was a house that was rated a 2, but was bought new for almost quadruple the prices of other properties that were rated at 2. The same seems to happen at 6, but its not as drastic as the property in 2. This could potential affect our models."
   ]
  },
  {
   "cell_type": "code",
   "execution_count": 10,
   "id": "9591e317",
   "metadata": {},
   "outputs": [
    {
     "data": {
      "text/plain": [
       "<seaborn.axisgrid.FacetGrid at 0x7fb312c14d60>"
      ]
     },
     "execution_count": 10,
     "metadata": {},
     "output_type": "execute_result"
    },
    {
     "data": {
      "image/png": "[encoded data removed]",
      "text/plain": [
       "<Figure size 360x360 with 1 Axes>"
      ]
     },
     "metadata": {
      "needs_background": "light"
     },
     "output_type": "display_data"
    }
   ],
   "source": [
    "sns.catplot(data=train, kind=\"bar\", x=\"OverallQual\", y=\"SalePrice\")"
   ]
  },
  {
   "cell_type": "markdown",
   "id": "c9c33407",
   "metadata": {},
   "source": [
    "This is a great graph and could be a great feature in predicting the price of a house."
   ]
  },
  {
   "cell_type": "markdown",
   "id": "4d6f3bd9",
   "metadata": {},
   "source": [
    "#### Now lets look at the types of properties/locations of properties that are being sold."
   ]
  },
  {
   "cell_type": "markdown",
   "id": "a829cfc7",
   "metadata": {},
   "source": [
    "This should be the most important section because we would expect the type of house to be the largest factor in determining its price."
   ]
  },
  {
   "cell_type": "code",
   "execution_count": 11,
   "id": "f1114037",
   "metadata": {},
   "outputs": [
    {
     "data": {
      "text/plain": [
       "<seaborn.axisgrid.FacetGrid at 0x7fb320a0be80>"
      ]
     },
     "execution_count": 11,
     "metadata": {},
     "output_type": "execute_result"
    },
    {
     "data": {
      "image/png": "[encoded data removed]",
      "text/plain": [
       "<Figure size 360x360 with 1 Axes>"
      ]
     },
     "metadata": {
      "needs_background": "light"
     },
     "output_type": "display_data"
    }
   ],
   "source": [
    "sns.catplot(data=train, kind=\"bar\", x=\"MSSubClass\", y=\"SalePrice\")"
   ]
  },
  {
   "cell_type": "markdown",
   "id": "b0bd460a",
   "metadata": {},
   "source": [
    "We see that 60 is the most expensive type of dwelling that was sold. 60 identifies 2 story dwellings that were built in 1946 or later. 30 is the cheapest, and 30 is 1 story buildings that were built in 1945 or earlier."
   ]
  },
  {
   "cell_type": "code",
   "execution_count": 12,
   "id": "489c5263",
   "metadata": {},
   "outputs": [
    {
     "data": {
      "text/plain": [
       "<seaborn.axisgrid.FacetGrid at 0x7fb320cc1dc0>"
      ]
     },
     "execution_count": 12,
     "metadata": {},
     "output_type": "execute_result"
    },
    {
     "data": {
      "image/png": "[encoded data removed]",
      "text/plain": [
       "<Figure size 360x360 with 1 Axes>"
      ]
     },
     "metadata": {
      "needs_background": "light"
     },
     "output_type": "display_data"
    }
   ],
   "source": [
    "sns.catplot(data=train, kind=\"bar\", x=\"MSZoning\", y=\"SalePrice\")"
   ]
  },
  {
   "cell_type": "markdown",
   "id": "d66e9d28",
   "metadata": {},
   "source": [
    "Out of the 3 R (Residential Zones), we can see that the low density residential zone (RL) was the one with the most demand. However, the area with the most expensive housing is actually the Floating Village-Residential which is a type of luxury housing. "
   ]
  },
  {
   "cell_type": "markdown",
   "id": "08e59c10",
   "metadata": {},
   "source": [
    "## Part 2 - Data Cleaning"
   ]
  },
  {
   "cell_type": "code",
   "execution_count": 13,
   "id": "129f11cc",
   "metadata": {},
   "outputs": [
    {
     "data": {
      "text/plain": [
       "RL         1151\n",
       "RM          218\n",
       "FV           65\n",
       "RH           16\n",
       "C (all)      10\n",
       "Name: MSZoning, dtype: int64"
      ]
     },
     "execution_count": 13,
     "metadata": {},
     "output_type": "execute_result"
    }
   ],
   "source": [
    "df['MSZoning'].value_counts()"
   ]
  },
  {
   "cell_type": "code",
   "execution_count": 14,
   "id": "cf45b422",
   "metadata": {},
   "outputs": [],
   "source": [
    "df.loc[df[\"MSZoning\"] == \"A\", \"MSZoning\"] = 0 \n",
    "df.loc[df[\"MSZoning\"] == \"C\", \"MSZoning\"] = 1\n",
    "df.loc[df[\"MSZoning\"] == \"FV\", \"MSZoning\"] = 2 \n",
    "df.loc[df[\"MSZoning\"] == \"I\", \"MSZoning\"] = 3\n",
    "df.loc[df[\"MSZoning\"] == \"RH\", \"MSZoning\"] = 4\n",
    "df.loc[df[\"MSZoning\"] == \"RL\", \"MSZoning\"] = 5\n",
    "df.loc[df[\"MSZoning\"] == \"RP\", \"MSZoning\"] = 6\n",
    "df.loc[df[\"MSZoning\"] == \"RM\", \"MSZoning\"] = 7"
   ]
  },
  {
   "cell_type": "code",
   "execution_count": 15,
   "id": "8da2dca8",
   "metadata": {},
   "outputs": [
    {
     "data": {
      "text/plain": [
       "Pave    1454\n",
       "Grvl       6\n",
       "Name: Street, dtype: int64"
      ]
     },
     "execution_count": 15,
     "metadata": {},
     "output_type": "execute_result"
    }
   ],
   "source": [
    "df['Street'].value_counts()"
   ]
  },
  {
   "cell_type": "code",
   "execution_count": 16,
   "id": "cd2df266",
   "metadata": {},
   "outputs": [],
   "source": [
    "df.loc[df[\"Street\"] == \"Pave\", \"Street\"] = 0\n",
    "df.loc[df[\"Street\"] == \"Grvl\", \"Street\"] = 1"
   ]
  },
  {
   "cell_type": "code",
   "execution_count": 17,
   "id": "78a42d63",
   "metadata": {},
   "outputs": [
    {
     "data": {
      "text/plain": [
       "Grvl    50\n",
       "Pave    41\n",
       "Name: Alley, dtype: int64"
      ]
     },
     "execution_count": 17,
     "metadata": {},
     "output_type": "execute_result"
    }
   ],
   "source": [
    "df['Alley'].value_counts()"
   ]
  },
  {
   "cell_type": "code",
   "execution_count": 18,
   "id": "37490d97",
   "metadata": {},
   "outputs": [],
   "source": [
    "df.loc[df[\"Alley\"] == \"Pave\", \"Alley\"] = 0\n",
    "df.loc[df[\"Alley\"] == \"Grvl\", \"Alley\"] = 1\n",
    "df.loc[df[\"Alley\"] == \"NA\", \"Alley\"] = 2"
   ]
  },
  {
   "cell_type": "code",
   "execution_count": 19,
   "id": "d20ab200",
   "metadata": {},
   "outputs": [
    {
     "data": {
      "text/plain": [
       "Reg    925\n",
       "IR1    484\n",
       "IR2     41\n",
       "IR3     10\n",
       "Name: LotShape, dtype: int64"
      ]
     },
     "execution_count": 19,
     "metadata": {},
     "output_type": "execute_result"
    }
   ],
   "source": [
    "df['LotShape'].value_counts()"
   ]
  },
  {
   "cell_type": "code",
   "execution_count": 20,
   "id": "1aa334d2",
   "metadata": {},
   "outputs": [],
   "source": [
    "df.loc[df[\"LotShape\"] == \"Reg\", \"LotShape\"] = 0\n",
    "df.loc[df[\"LotShape\"] == \"IR1\", \"LotShape\"] = 1\n",
    "df.loc[df[\"LotShape\"] == \"IR2\", \"LotShape\"] = 2\n",
    "df.loc[df[\"LotShape\"] == \"IR3\", \"LotShape\"] = 3"
   ]
  },
  {
   "cell_type": "code",
   "execution_count": 21,
   "id": "b4c2da12",
   "metadata": {},
   "outputs": [
    {
     "data": {
      "text/plain": [
       "Lvl    1311\n",
       "Bnk      63\n",
       "HLS      50\n",
       "Low      36\n",
       "Name: LandContour, dtype: int64"
      ]
     },
     "execution_count": 21,
     "metadata": {},
     "output_type": "execute_result"
    }
   ],
   "source": [
    "df['LandContour'].value_counts()"
   ]
  },
  {
   "cell_type": "code",
   "execution_count": 22,
   "id": "ba9bf9cb",
   "metadata": {},
   "outputs": [],
   "source": [
    "df.loc[df[\"LandContour\"] == \"Lvl\", \"LandContour\"] = 0\n",
    "df.loc[df[\"LandContour\"] == \"Bnk\", \"LandContour\"] = 1\n",
    "df.loc[df[\"LandContour\"] == \"HLS\", \"LandContour\"] = 2\n",
    "df.loc[df[\"LandContour\"] == \"Low\", \"LandContour\"] = 3"
   ]
  },
  {
   "cell_type": "code",
   "execution_count": 23,
   "id": "2139969f",
   "metadata": {},
   "outputs": [
    {
     "data": {
      "text/plain": [
       "AllPub    1459\n",
       "NoSeWa       1\n",
       "Name: Utilities, dtype: int64"
      ]
     },
     "execution_count": 23,
     "metadata": {},
     "output_type": "execute_result"
    }
   ],
   "source": [
    "df['Utilities'].value_counts()"
   ]
  },
  {
   "cell_type": "code",
   "execution_count": null,
   "id": "058b6bd4",
   "metadata": {},
   "outputs": [],
   "source": [
    "df.loc[df[\"Utilities\"] == \"AllPub\", \"Utilities\"] = 0\n",
    "df.loc[df[\"Utilities\"] == \"NoSeWa\", \"Utilities\"] = 1\n",
    "df.loc[df[\"Utilities\"] == \"NoSewr\", \"Utilities\"] = 2\n",
    "df.loc[df[\"Utilities\"] == \"ELO\", \"Utilities\"] = 3"
   ]
  }
 ],
 "metadata": {
  "kernelspec": {
   "display_name": "Python 3 (ipykernel)",
   "language": "python",
   "name": "python3"
  },
  "language_info": {
   "codemirror_mode": {
    "name": "ipython",
    "version": 3
   },
   "file_extension": ".py",
   "mimetype": "text/x-python",
   "name": "python",
   "nbconvert_exporter": "python",
   "pygments_lexer": "ipython3",
   "version": "3.9.7"
  }
 },
 "nbformat": 4,
 "nbformat_minor": 5
}
