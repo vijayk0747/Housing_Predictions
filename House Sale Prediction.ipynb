{
 "cells": [
  {
   "cell_type": "markdown",
   "id": "588a1eba",
   "metadata": {},
   "source": [
    "# House Sale Price Prediction"
   ]
  },
  {
   "cell_type": "code",
   "execution_count": 1,
   "id": "b71d2932",
   "metadata": {},
   "outputs": [],
   "source": [
    "#We Begin by importing the necessary libraries.\n",
    "\n",
    "import pandas as pd\n",
    "import numpy as np\n",
    "import ast\n",
    "import seaborn as sns\n",
    "import matplotlib.pyplot as plt\n",
    "\n",
    "from sklearn import metrics\n",
    "from sklearn.metrics import confusion_matrix, classification_report, roc_auc_score\n",
    "from sklearn.model_selection import train_test_split\n",
    "from sklearn.ensemble import RandomForestRegressor\n",
    "from sklearn.linear_model import LinearRegression\n",
    "from sklearn import datasets, linear_model\n",
    "from sklearn.metrics import mean_squared_error, r2_score\n",
    "from sklearn.ensemble import GradientBoostingRegressor \n",
    "from collections import Counter\n",
    "from pdpbox.pdp import pdp_isolate, pdp_plot\n",
    "from sklearn.metrics import accuracy_score\n",
    "\n",
    "%matplotlib inline"
   ]
  },
  {
   "cell_type": "markdown",
   "id": "b1793119",
   "metadata": {},
   "source": [
    "## Part 1 - Data Exploration"
   ]
  },
  {
   "cell_type": "code",
   "execution_count": 2,
   "id": "8c130817",
   "metadata": {},
   "outputs": [
    {
     "name": "stdout",
     "output_type": "stream",
     "text": [
      "(1460, 81)\n",
      "(1459, 80)\n"
     ]
    }
   ],
   "source": [
    "train = pd.read_csv(\"train.csv\", low_memory=False)\n",
    "test = pd.read_csv(\"test.csv\", low_memory=False)\n",
    "\n",
    "print(train.shape)\n",
    "print(test.shape)"
   ]
  },
  {
   "cell_type": "code",
   "execution_count": 3,
   "id": "87d7cf8c",
   "metadata": {},
   "outputs": [
    {
     "data": {
      "text/html": [
       "<div>\n",
       "<style scoped>\n",
       "    .dataframe tbody tr th:only-of-type {\n",
       "        vertical-align: middle;\n",
       "    }\n",
       "\n",
       "    .dataframe tbody tr th {\n",
       "        vertical-align: top;\n",
       "    }\n",
       "\n",
       "    .dataframe thead th {\n",
       "        text-align: right;\n",
       "    }\n",
       "</style>\n",
       "<table border=\"1\" class=\"dataframe\">\n",
       "  <thead>\n",
       "    <tr style=\"text-align: right;\">\n",
       "      <th></th>\n",
       "      <th>Id</th>\n",
       "      <th>MSSubClass</th>\n",
       "      <th>MSZoning</th>\n",
       "      <th>LotFrontage</th>\n",
       "      <th>LotArea</th>\n",
       "      <th>Street</th>\n",
       "      <th>Alley</th>\n",
       "      <th>LotShape</th>\n",
       "      <th>LandContour</th>\n",
       "      <th>Utilities</th>\n",
       "      <th>...</th>\n",
       "      <th>PoolArea</th>\n",
       "      <th>PoolQC</th>\n",
       "      <th>Fence</th>\n",
       "      <th>MiscFeature</th>\n",
       "      <th>MiscVal</th>\n",
       "      <th>MoSold</th>\n",
       "      <th>YrSold</th>\n",
       "      <th>SaleType</th>\n",
       "      <th>SaleCondition</th>\n",
       "      <th>SalePrice</th>\n",
       "    </tr>\n",
       "  </thead>\n",
       "  <tbody>\n",
       "    <tr>\n",
       "      <th>0</th>\n",
       "      <td>1</td>\n",
       "      <td>60</td>\n",
       "      <td>RL</td>\n",
       "      <td>65.0</td>\n",
       "      <td>8450</td>\n",
       "      <td>Pave</td>\n",
       "      <td>NaN</td>\n",
       "      <td>Reg</td>\n",
       "      <td>Lvl</td>\n",
       "      <td>AllPub</td>\n",
       "      <td>...</td>\n",
       "      <td>0</td>\n",
       "      <td>NaN</td>\n",
       "      <td>NaN</td>\n",
       "      <td>NaN</td>\n",
       "      <td>0</td>\n",
       "      <td>2</td>\n",
       "      <td>2008</td>\n",
       "      <td>WD</td>\n",
       "      <td>Normal</td>\n",
       "      <td>208500</td>\n",
       "    </tr>\n",
       "    <tr>\n",
       "      <th>1</th>\n",
       "      <td>2</td>\n",
       "      <td>20</td>\n",
       "      <td>RL</td>\n",
       "      <td>80.0</td>\n",
       "      <td>9600</td>\n",
       "      <td>Pave</td>\n",
       "      <td>NaN</td>\n",
       "      <td>Reg</td>\n",
       "      <td>Lvl</td>\n",
       "      <td>AllPub</td>\n",
       "      <td>...</td>\n",
       "      <td>0</td>\n",
       "      <td>NaN</td>\n",
       "      <td>NaN</td>\n",
       "      <td>NaN</td>\n",
       "      <td>0</td>\n",
       "      <td>5</td>\n",
       "      <td>2007</td>\n",
       "      <td>WD</td>\n",
       "      <td>Normal</td>\n",
       "      <td>181500</td>\n",
       "    </tr>\n",
       "    <tr>\n",
       "      <th>2</th>\n",
       "      <td>3</td>\n",
       "      <td>60</td>\n",
       "      <td>RL</td>\n",
       "      <td>68.0</td>\n",
       "      <td>11250</td>\n",
       "      <td>Pave</td>\n",
       "      <td>NaN</td>\n",
       "      <td>IR1</td>\n",
       "      <td>Lvl</td>\n",
       "      <td>AllPub</td>\n",
       "      <td>...</td>\n",
       "      <td>0</td>\n",
       "      <td>NaN</td>\n",
       "      <td>NaN</td>\n",
       "      <td>NaN</td>\n",
       "      <td>0</td>\n",
       "      <td>9</td>\n",
       "      <td>2008</td>\n",
       "      <td>WD</td>\n",
       "      <td>Normal</td>\n",
       "      <td>223500</td>\n",
       "    </tr>\n",
       "    <tr>\n",
       "      <th>3</th>\n",
       "      <td>4</td>\n",
       "      <td>70</td>\n",
       "      <td>RL</td>\n",
       "      <td>60.0</td>\n",
       "      <td>9550</td>\n",
       "      <td>Pave</td>\n",
       "      <td>NaN</td>\n",
       "      <td>IR1</td>\n",
       "      <td>Lvl</td>\n",
       "      <td>AllPub</td>\n",
       "      <td>...</td>\n",
       "      <td>0</td>\n",
       "      <td>NaN</td>\n",
       "      <td>NaN</td>\n",
       "      <td>NaN</td>\n",
       "      <td>0</td>\n",
       "      <td>2</td>\n",
       "      <td>2006</td>\n",
       "      <td>WD</td>\n",
       "      <td>Abnorml</td>\n",
       "      <td>140000</td>\n",
       "    </tr>\n",
       "    <tr>\n",
       "      <th>4</th>\n",
       "      <td>5</td>\n",
       "      <td>60</td>\n",
       "      <td>RL</td>\n",
       "      <td>84.0</td>\n",
       "      <td>14260</td>\n",
       "      <td>Pave</td>\n",
       "      <td>NaN</td>\n",
       "      <td>IR1</td>\n",
       "      <td>Lvl</td>\n",
       "      <td>AllPub</td>\n",
       "      <td>...</td>\n",
       "      <td>0</td>\n",
       "      <td>NaN</td>\n",
       "      <td>NaN</td>\n",
       "      <td>NaN</td>\n",
       "      <td>0</td>\n",
       "      <td>12</td>\n",
       "      <td>2008</td>\n",
       "      <td>WD</td>\n",
       "      <td>Normal</td>\n",
       "      <td>250000</td>\n",
       "    </tr>\n",
       "  </tbody>\n",
       "</table>\n",
       "<p>5 rows × 81 columns</p>\n",
       "</div>"
      ],
      "text/plain": [
       "   Id  MSSubClass MSZoning  LotFrontage  LotArea Street Alley LotShape  \\\n",
       "0   1          60       RL         65.0     8450   Pave   NaN      Reg   \n",
       "1   2          20       RL         80.0     9600   Pave   NaN      Reg   \n",
       "2   3          60       RL         68.0    11250   Pave   NaN      IR1   \n",
       "3   4          70       RL         60.0     9550   Pave   NaN      IR1   \n",
       "4   5          60       RL         84.0    14260   Pave   NaN      IR1   \n",
       "\n",
       "  LandContour Utilities  ... PoolArea PoolQC Fence MiscFeature MiscVal MoSold  \\\n",
       "0         Lvl    AllPub  ...        0    NaN   NaN         NaN       0      2   \n",
       "1         Lvl    AllPub  ...        0    NaN   NaN         NaN       0      5   \n",
       "2         Lvl    AllPub  ...        0    NaN   NaN         NaN       0      9   \n",
       "3         Lvl    AllPub  ...        0    NaN   NaN         NaN       0      2   \n",
       "4         Lvl    AllPub  ...        0    NaN   NaN         NaN       0     12   \n",
       "\n",
       "  YrSold  SaleType  SaleCondition  SalePrice  \n",
       "0   2008        WD         Normal     208500  \n",
       "1   2007        WD         Normal     181500  \n",
       "2   2008        WD         Normal     223500  \n",
       "3   2006        WD        Abnorml     140000  \n",
       "4   2008        WD         Normal     250000  \n",
       "\n",
       "[5 rows x 81 columns]"
      ]
     },
     "execution_count": 3,
     "metadata": {},
     "output_type": "execute_result"
    }
   ],
   "source": [
    "df = train\n",
    "df.head()"
   ]
  },
  {
   "cell_type": "markdown",
   "id": "3075dac8",
   "metadata": {},
   "source": [
    "## Part 1.5 - Initial Impressions"
   ]
  },
  {
   "cell_type": "markdown",
   "id": "38cfd0c2",
   "metadata": {},
   "source": [
    "#### Lets start by looking at Dates"
   ]
  },
  {
   "cell_type": "code",
   "execution_count": 4,
   "id": "9c012bc6",
   "metadata": {},
   "outputs": [
    {
     "data": {
      "text/plain": [
       "<seaborn.axisgrid.FacetGrid at 0x7fb9e8da6610>"
      ]
     },
     "execution_count": 4,
     "metadata": {},
     "output_type": "execute_result"
    },
    {
     "data": {
      "image/png": "[encoded data removed]",
      "text/plain": [
       "<Figure size 360x360 with 1 Axes>"
      ]
     },
     "metadata": {
      "needs_background": "light"
     },
     "output_type": "display_data"
    }
   ],
   "source": [
    "sns.catplot(data=train, kind=\"bar\", x=\"YrSold\", y=\"SalePrice\")"
   ]
  },
  {
   "cell_type": "markdown",
   "id": "cf0c46f2",
   "metadata": {},
   "source": [
    "The first thing to look for when you see Housing Prices during this period is how much the depression during 2008 affected prices. We can see that represented here because prices rise from 2006-2007, but fall from 2007-2008."
   ]
  },
  {
   "cell_type": "code",
   "execution_count": 5,
   "id": "6da3cb45",
   "metadata": {},
   "outputs": [
    {
     "data": {
      "text/plain": [
       "<seaborn.axisgrid.FacetGrid at 0x7fba00944c70>"
      ]
     },
     "execution_count": 5,
     "metadata": {},
     "output_type": "execute_result"
    },
    {
     "data": {
      "image/png": "[encoded data removed]",
      "text/plain": [
       "<Figure size 360x360 with 1 Axes>"
      ]
     },
     "metadata": {
      "needs_background": "light"
     },
     "output_type": "display_data"
    },
    {
     "data": {
      "image/png": "[encoded data removed]",
      "text/plain": [
       "<Figure size 360x360 with 1 Axes>"
      ]
     },
     "metadata": {
      "needs_background": "light"
     },
     "output_type": "display_data"
    }
   ],
   "source": [
    "sns.relplot(data=train, kind=\"line\", x=\"YearBuilt\", y=\"SalePrice\")\n",
    "sns.relplot(data=train, kind=\"line\", x=\"YearRemodAdd\", y=\"SalePrice\")"
   ]
  },
  {
   "cell_type": "markdown",
   "id": "e560c52f",
   "metadata": {},
   "source": [
    "We see a few interesting trends here. Houses built during the late 1900s, as well as houses built during 1930s sell for more than those around their time. The remodel chart is much more standard and we can see that the houses that were remodeled later almost always sold for more."
   ]
  },
  {
   "cell_type": "markdown",
   "id": "0fa8e156",
   "metadata": {},
   "source": [
    "#### Now lets look at Conditions of the properties"
   ]
  },
  {
   "cell_type": "code",
   "execution_count": 6,
   "id": "75cdddc7",
   "metadata": {},
   "outputs": [
    {
     "data": {
      "text/plain": [
       "<seaborn.axisgrid.FacetGrid at 0x7fb9eba6da30>"
      ]
     },
     "execution_count": 6,
     "metadata": {},
     "output_type": "execute_result"
    },
    {
     "data": {
      "image/png": "[encoded data removed]",
      "text/plain": [
       "<Figure size 360x360 with 1 Axes>"
      ]
     },
     "metadata": {
      "needs_background": "light"
     },
     "output_type": "display_data"
    }
   ],
   "source": [
    "sns.catplot(data=train, kind=\"bar\", x=\"SaleCondition\", y=\"SalePrice\")"
   ]
  },
  {
   "cell_type": "markdown",
   "id": "fef74679",
   "metadata": {},
   "source": [
    "The data continues to look normal here. Partial sales (which is listed as homes that are new) seem to sell for the most, while abnormal sales such as foreclosers sell for the lowest amount."
   ]
  },
  {
   "cell_type": "code",
   "execution_count": 7,
   "id": "ecc7dc5b",
   "metadata": {},
   "outputs": [
    {
     "data": {
      "text/plain": [
       "<seaborn.axisgrid.FacetGrid at 0x7fb9eb8e0c40>"
      ]
     },
     "execution_count": 7,
     "metadata": {},
     "output_type": "execute_result"
    },
    {
     "data": {
      "image/png": "[encoded data removed]",
      "text/plain": [
       "<Figure size 360x360 with 1 Axes>"
      ]
     },
     "metadata": {
      "needs_background": "light"
     },
     "output_type": "display_data"
    }
   ],
   "source": [
    "sns.catplot(data=train, kind=\"bar\", x=\"OverallCond\", y=\"SalePrice\")"
   ]
  },
  {
   "cell_type": "markdown",
   "id": "6ccc85d8",
   "metadata": {},
   "source": [
    "Here, we see a large amount of variation within the houses sold with a rating of 2 and 9. Lets explore further."
   ]
  },
  {
   "cell_type": "code",
   "execution_count": 8,
   "id": "d601c0b9",
   "metadata": {},
   "outputs": [
    {
     "data": {
      "text/plain": [
       "<seaborn.axisgrid.FacetGrid at 0x7fb9eba6dc70>"
      ]
     },
     "execution_count": 8,
     "metadata": {},
     "output_type": "execute_result"
    },
    {
     "data": {
      "image/png": "[encoded data removed]",
      "text/plain": [
       "<Figure size 438x360 with 1 Axes>"
      ]
     },
     "metadata": {
      "needs_background": "light"
     },
     "output_type": "display_data"
    }
   ],
   "source": [
    "sns.catplot(data=train, kind=\"bar\", x=\"OverallCond\", y=\"SalePrice\", hue=\"SaleCondition\")"
   ]
  },
  {
   "cell_type": "markdown",
   "id": "79f31745",
   "metadata": {},
   "source": [
    "Now we can see that there was a house that was rated a 2, but was bought new for almost quadruple the prices of other properties that were rated at 2. The same seems to happen at 6, but its not as drastic as the property in 2. This could potential affect our models."
   ]
  },
  {
   "cell_type": "code",
   "execution_count": 9,
   "id": "9591e317",
   "metadata": {},
   "outputs": [
    {
     "data": {
      "text/plain": [
       "<seaborn.axisgrid.FacetGrid at 0x7fb9ebda8d60>"
      ]
     },
     "execution_count": 9,
     "metadata": {},
     "output_type": "execute_result"
    },
    {
     "data": {
      "image/png": "[encoded data removed]",
      "text/plain": [
       "<Figure size 360x360 with 1 Axes>"
      ]
     },
     "metadata": {
      "needs_background": "light"
     },
     "output_type": "display_data"
    }
   ],
   "source": [
    "sns.catplot(data=train, kind=\"bar\", x=\"OverallQual\", y=\"SalePrice\")"
   ]
  },
  {
   "cell_type": "markdown",
   "id": "c9c33407",
   "metadata": {},
   "source": [
    "This is a great graph and could be a great feature in predicting the price of a house."
   ]
  },
  {
   "cell_type": "markdown",
   "id": "4d6f3bd9",
   "metadata": {},
   "source": [
    "#### Now lets look at the types of properties/locations of properties that are being sold."
   ]
  },
  {
   "cell_type": "markdown",
   "id": "a829cfc7",
   "metadata": {},
   "source": [
    "This should be the most important section because we would expect the type of house to be the largest factor in determining its price."
   ]
  },
  {
   "cell_type": "code",
   "execution_count": 10,
   "id": "f1114037",
   "metadata": {},
   "outputs": [
    {
     "data": {
      "text/plain": [
       "<seaborn.axisgrid.FacetGrid at 0x7fba00d5ddc0>"
      ]
     },
     "execution_count": 10,
     "metadata": {},
     "output_type": "execute_result"
    },
    {
     "data": {
      "image/png": "[encoded data removed]",
      "text/plain": [
       "<Figure size 360x360 with 1 Axes>"
      ]
     },
     "metadata": {
      "needs_background": "light"
     },
     "output_type": "display_data"
    }
   ],
   "source": [
    "sns.catplot(data=train, kind=\"bar\", x=\"MSSubClass\", y=\"SalePrice\")"
   ]
  },
  {
   "cell_type": "markdown",
   "id": "b0bd460a",
   "metadata": {},
   "source": [
    "We see that 60 is the most expensive type of dwelling that was sold. 60 identifies 2 story dwellings that were built in 1946 or later. 30 is the cheapest, and 30 is 1 story buildings that were built in 1945 or earlier."
   ]
  },
  {
   "cell_type": "code",
   "execution_count": 11,
   "id": "489c5263",
   "metadata": {},
   "outputs": [
    {
     "data": {
      "text/plain": [
       "<seaborn.axisgrid.FacetGrid at 0x7fba00d5dd60>"
      ]
     },
     "execution_count": 11,
     "metadata": {},
     "output_type": "execute_result"
    },
    {
     "data": {
      "image/png": "[encoded data removed]",
      "text/plain": [
       "<Figure size 360x360 with 1 Axes>"
      ]
     },
     "metadata": {
      "needs_background": "light"
     },
     "output_type": "display_data"
    }
   ],
   "source": [
    "sns.catplot(data=train, kind=\"bar\", x=\"MSZoning\", y=\"SalePrice\")"
   ]
  },
  {
   "cell_type": "markdown",
   "id": "d66e9d28",
   "metadata": {},
   "source": [
    "Out of the 3 R (Residential Zones), we can see that the low density residential zone (RL) was the one with the most demand. However, the area with the most expensive housing is actually the Floating Village-Residential which is a type of luxury housing. "
   ]
  },
  {
   "cell_type": "markdown",
   "id": "08e59c10",
   "metadata": {},
   "source": [
    "## Part 2 - Data Cleaning"
   ]
  },
  {
   "cell_type": "code",
   "execution_count": 12,
   "id": "129f11cc",
   "metadata": {},
   "outputs": [
    {
     "data": {
      "text/plain": [
       "RL         1151\n",
       "RM          218\n",
       "FV           65\n",
       "RH           16\n",
       "C (all)      10\n",
       "Name: MSZoning, dtype: int64"
      ]
     },
     "execution_count": 12,
     "metadata": {},
     "output_type": "execute_result"
    }
   ],
   "source": [
    "df['MSZoning'].value_counts()"
   ]
  },
  {
   "cell_type": "code",
   "execution_count": 13,
   "id": "cf45b422",
   "metadata": {},
   "outputs": [],
   "source": [
    "df.loc[df[\"MSZoning\"] == \"A\", \"MSZoning\"] = 0 \n",
    "df.loc[df[\"MSZoning\"] == \"C (all)\", \"MSZoning\"] = 1\n",
    "df.loc[df[\"MSZoning\"] == \"FV\", \"MSZoning\"] = 2 \n",
    "df.loc[df[\"MSZoning\"] == \"I\", \"MSZoning\"] = 3\n",
    "df.loc[df[\"MSZoning\"] == \"RH\", \"MSZoning\"] = 4\n",
    "df.loc[df[\"MSZoning\"] == \"RL\", \"MSZoning\"] = 5\n",
    "df.loc[df[\"MSZoning\"] == \"RP\", \"MSZoning\"] = 6\n",
    "df.loc[df[\"MSZoning\"] == \"RM\", \"MSZoning\"] = 7"
   ]
  },
  {
   "cell_type": "code",
   "execution_count": 14,
   "id": "8da2dca8",
   "metadata": {},
   "outputs": [
    {
     "data": {
      "text/plain": [
       "Pave    1454\n",
       "Grvl       6\n",
       "Name: Street, dtype: int64"
      ]
     },
     "execution_count": 14,
     "metadata": {},
     "output_type": "execute_result"
    }
   ],
   "source": [
    "df['Street'].value_counts()"
   ]
  },
  {
   "cell_type": "code",
   "execution_count": 15,
   "id": "cd2df266",
   "metadata": {},
   "outputs": [],
   "source": [
    "df.loc[df[\"Street\"] == \"Pave\", \"Street\"] = 0\n",
    "df.loc[df[\"Street\"] == \"Grvl\", \"Street\"] = 1"
   ]
  },
  {
   "cell_type": "code",
   "execution_count": 16,
   "id": "78a42d63",
   "metadata": {},
   "outputs": [
    {
     "data": {
      "text/plain": [
       "Grvl    50\n",
       "Pave    41\n",
       "Name: Alley, dtype: int64"
      ]
     },
     "execution_count": 16,
     "metadata": {},
     "output_type": "execute_result"
    }
   ],
   "source": [
    "df['Alley'].value_counts()"
   ]
  },
  {
   "cell_type": "code",
   "execution_count": 17,
   "id": "37490d97",
   "metadata": {},
   "outputs": [],
   "source": [
    "df.loc[df[\"Alley\"] == \"Pave\", \"Alley\"] = 0\n",
    "df.loc[df[\"Alley\"] == \"Grvl\", \"Alley\"] = 1\n",
    "df.loc[df[\"Alley\"] == \"NA\", \"Alley\"] = 2"
   ]
  },
  {
   "cell_type": "code",
   "execution_count": 18,
   "id": "d20ab200",
   "metadata": {},
   "outputs": [
    {
     "data": {
      "text/plain": [
       "Reg    925\n",
       "IR1    484\n",
       "IR2     41\n",
       "IR3     10\n",
       "Name: LotShape, dtype: int64"
      ]
     },
     "execution_count": 18,
     "metadata": {},
     "output_type": "execute_result"
    }
   ],
   "source": [
    "df['LotShape'].value_counts()"
   ]
  },
  {
   "cell_type": "code",
   "execution_count": 19,
   "id": "1aa334d2",
   "metadata": {},
   "outputs": [],
   "source": [
    "df.loc[df[\"LotShape\"] == \"Reg\", \"LotShape\"] = 0\n",
    "df.loc[df[\"LotShape\"] == \"IR1\", \"LotShape\"] = 1\n",
    "df.loc[df[\"LotShape\"] == \"IR2\", \"LotShape\"] = 2\n",
    "df.loc[df[\"LotShape\"] == \"IR3\", \"LotShape\"] = 3"
   ]
  },
  {
   "cell_type": "code",
   "execution_count": 20,
   "id": "b4c2da12",
   "metadata": {},
   "outputs": [
    {
     "data": {
      "text/plain": [
       "Lvl    1311\n",
       "Bnk      63\n",
       "HLS      50\n",
       "Low      36\n",
       "Name: LandContour, dtype: int64"
      ]
     },
     "execution_count": 20,
     "metadata": {},
     "output_type": "execute_result"
    }
   ],
   "source": [
    "df['LandContour'].value_counts()"
   ]
  },
  {
   "cell_type": "code",
   "execution_count": 21,
   "id": "ba9bf9cb",
   "metadata": {},
   "outputs": [],
   "source": [
    "df.loc[df[\"LandContour\"] == \"Lvl\", \"LandContour\"] = 0\n",
    "df.loc[df[\"LandContour\"] == \"Bnk\", \"LandContour\"] = 1\n",
    "df.loc[df[\"LandContour\"] == \"HLS\", \"LandContour\"] = 2\n",
    "df.loc[df[\"LandContour\"] == \"Low\", \"LandContour\"] = 3"
   ]
  },
  {
   "cell_type": "code",
   "execution_count": 22,
   "id": "2139969f",
   "metadata": {},
   "outputs": [
    {
     "data": {
      "text/plain": [
       "AllPub    1459\n",
       "NoSeWa       1\n",
       "Name: Utilities, dtype: int64"
      ]
     },
     "execution_count": 22,
     "metadata": {},
     "output_type": "execute_result"
    }
   ],
   "source": [
    "df['Utilities'].value_counts()"
   ]
  },
  {
   "cell_type": "code",
   "execution_count": 23,
   "id": "058b6bd4",
   "metadata": {},
   "outputs": [],
   "source": [
    "df.loc[df[\"Utilities\"] == \"AllPub\", \"Utilities\"] = 0\n",
    "df.loc[df[\"Utilities\"] == \"NoSeWa\", \"Utilities\"] = 1\n",
    "df.loc[df[\"Utilities\"] == \"NoSewr\", \"Utilities\"] = 2\n",
    "df.loc[df[\"Utilities\"] == \"ELO\", \"Utilities\"] = 3"
   ]
  },
  {
   "cell_type": "code",
   "execution_count": 24,
   "id": "6e814e5b",
   "metadata": {},
   "outputs": [
    {
     "data": {
      "text/plain": [
       "Inside     1052\n",
       "Corner      263\n",
       "CulDSac      94\n",
       "FR2          47\n",
       "FR3           4\n",
       "Name: LotConfig, dtype: int64"
      ]
     },
     "execution_count": 24,
     "metadata": {},
     "output_type": "execute_result"
    }
   ],
   "source": [
    "df['LotConfig'].value_counts()"
   ]
  },
  {
   "cell_type": "code",
   "execution_count": 25,
   "id": "953e8259",
   "metadata": {},
   "outputs": [],
   "source": [
    "df.loc[df[\"LotConfig\"] == \"Inside\", \"LotConfig\"] = 0\n",
    "df.loc[df[\"LotConfig\"] == \"Corner\", \"LotConfig\"] = 1\n",
    "df.loc[df[\"LotConfig\"] == \"CulDSac\", \"LotConfig\"] = 2\n",
    "df.loc[df[\"LotConfig\"] == \"FR2\", \"LotConfig\"] = 3\n",
    "df.loc[df[\"LotConfig\"] == \"FR3\", \"LotConfig\"] = 4"
   ]
  },
  {
   "cell_type": "code",
   "execution_count": 26,
   "id": "534d6e3b",
   "metadata": {},
   "outputs": [
    {
     "data": {
      "text/plain": [
       "Gtl    1382\n",
       "Mod      65\n",
       "Sev      13\n",
       "Name: LandSlope, dtype: int64"
      ]
     },
     "execution_count": 26,
     "metadata": {},
     "output_type": "execute_result"
    }
   ],
   "source": [
    "df['LandSlope'].value_counts()"
   ]
  },
  {
   "cell_type": "code",
   "execution_count": 27,
   "id": "aea07daa",
   "metadata": {},
   "outputs": [],
   "source": [
    "df.loc[df[\"LandSlope\"] == \"Gtl\", \"LandSlope\"] = 0\n",
    "df.loc[df[\"LandSlope\"] == \"Mod\", \"LandSlope\"] = 1\n",
    "df.loc[df[\"LandSlope\"] == \"Sev\", \"LandSlope\"] = 2"
   ]
  },
  {
   "cell_type": "code",
   "execution_count": 28,
   "id": "0fea485c",
   "metadata": {},
   "outputs": [
    {
     "data": {
      "text/plain": [
       "NAmes      225\n",
       "CollgCr    150\n",
       "OldTown    113\n",
       "Edwards    100\n",
       "Somerst     86\n",
       "Gilbert     79\n",
       "NridgHt     77\n",
       "Sawyer      74\n",
       "NWAmes      73\n",
       "SawyerW     59\n",
       "BrkSide     58\n",
       "Crawfor     51\n",
       "Mitchel     49\n",
       "NoRidge     41\n",
       "Timber      38\n",
       "IDOTRR      37\n",
       "ClearCr     28\n",
       "StoneBr     25\n",
       "SWISU       25\n",
       "MeadowV     17\n",
       "Blmngtn     17\n",
       "BrDale      16\n",
       "Veenker     11\n",
       "NPkVill      9\n",
       "Blueste      2\n",
       "Name: Neighborhood, dtype: int64"
      ]
     },
     "execution_count": 28,
     "metadata": {},
     "output_type": "execute_result"
    }
   ],
   "source": [
    "df['Neighborhood'].value_counts()"
   ]
  },
  {
   "cell_type": "code",
   "execution_count": 29,
   "id": "b5ad293e",
   "metadata": {},
   "outputs": [],
   "source": [
    "df.loc[df[\"Neighborhood\"] == \"NAmes\", \"Neighborhood\"] = 0\n",
    "df.loc[df[\"Neighborhood\"] == \"CollgCr\", \"Neighborhood\"] = 1\n",
    "df.loc[df[\"Neighborhood\"] == \"OldTown\", \"Neighborhood\"] = 2\n",
    "df.loc[df[\"Neighborhood\"] == \"Edwards\", \"Neighborhood\"] = 3\n",
    "df.loc[df[\"Neighborhood\"] == \"Somerst\", \"Neighborhood\"] = 4\n",
    "df.loc[df[\"Neighborhood\"] == \"Gilbert\", \"Neighborhood\"] = 5\n",
    "df.loc[df[\"Neighborhood\"] == \"NridgHt\", \"Neighborhood\"] = 6\n",
    "df.loc[df[\"Neighborhood\"] == \"Sawyer\", \"Neighborhood\"] = 7\n",
    "df.loc[df[\"Neighborhood\"] == \"NWAmes\", \"Neighborhood\"] = 8\n",
    "df.loc[df[\"Neighborhood\"] == \"SawyerW\", \"Neighborhood\"] = 9\n",
    "df.loc[df[\"Neighborhood\"] == \"BrkSide\", \"Neighborhood\"] = 10\n",
    "df.loc[df[\"Neighborhood\"] == \"Crawfor\", \"Neighborhood\"] = 11\n",
    "df.loc[df[\"Neighborhood\"] == \"Mitchel\", \"Neighborhood\"] = 12\n",
    "df.loc[df[\"Neighborhood\"] == \"NoRidge\", \"Neighborhood\"] = 13\n",
    "df.loc[df[\"Neighborhood\"] == \"Timber\", \"Neighborhood\"] = 14\n",
    "df.loc[df[\"Neighborhood\"] == \"IDOTRR\", \"Neighborhood\"] = 15\n",
    "df.loc[df[\"Neighborhood\"] == \"ClearCr\", \"Neighborhood\"] = 16\n",
    "df.loc[df[\"Neighborhood\"] == \"StoneBr\", \"Neighborhood\"] = 17\n",
    "df.loc[df[\"Neighborhood\"] == \"SWISU\", \"Neighborhood\"] = 18\n",
    "df.loc[df[\"Neighborhood\"] == \"MeadowV\", \"Neighborhood\"] = 19\n",
    "df.loc[df[\"Neighborhood\"] == \"Blmngtn\", \"Neighborhood\"] = 20\n",
    "df.loc[df[\"Neighborhood\"] == \"BrDale\", \"Neighborhood\"] = 21\n",
    "df.loc[df[\"Neighborhood\"] == \"Veenker\", \"Neighborhood\"] = 22\n",
    "df.loc[df[\"Neighborhood\"] == \"NPkVill\", \"Neighborhood\"] = 23\n",
    "df.loc[df[\"Neighborhood\"] == \"Blueste\", \"Neighborhood\"] = 24"
   ]
  },
  {
   "cell_type": "code",
   "execution_count": 30,
   "id": "1a0fc0d4",
   "metadata": {},
   "outputs": [
    {
     "data": {
      "text/plain": [
       "Norm      1260\n",
       "Feedr       81\n",
       "Artery      48\n",
       "RRAn        26\n",
       "PosN        19\n",
       "RRAe        11\n",
       "PosA         8\n",
       "RRNn         5\n",
       "RRNe         2\n",
       "Name: Condition1, dtype: int64"
      ]
     },
     "execution_count": 30,
     "metadata": {},
     "output_type": "execute_result"
    }
   ],
   "source": [
    "df['Condition1'].value_counts()"
   ]
  },
  {
   "cell_type": "code",
   "execution_count": 31,
   "id": "fd2d783c",
   "metadata": {},
   "outputs": [],
   "source": [
    "df.loc[df[\"Condition1\"] == \"Norm\", \"Condition1\"] = 0\n",
    "df.loc[df[\"Condition1\"] == \"Feedr\", \"Condition1\"] = 1\n",
    "df.loc[df[\"Condition1\"] == \"Artery\", \"Condition1\"] = 2\n",
    "df.loc[df[\"Condition1\"] == \"RRAn\", \"Condition1\"] = 3\n",
    "df.loc[df[\"Condition1\"] == \"PosN\", \"Condition1\"] = 4\n",
    "df.loc[df[\"Condition1\"] == \"RRAe\", \"Condition1\"] = 5\n",
    "df.loc[df[\"Condition1\"] == \"PosA\", \"Condition1\"] = 6\n",
    "df.loc[df[\"Condition1\"] == \"RRNn\", \"Condition1\"] = 7\n",
    "df.loc[df[\"Condition1\"] == \"RRNe\", \"Condition1\"] = 8"
   ]
  },
  {
   "cell_type": "code",
   "execution_count": 32,
   "id": "afded181",
   "metadata": {},
   "outputs": [
    {
     "data": {
      "text/plain": [
       "Norm      1445\n",
       "Feedr        6\n",
       "Artery       2\n",
       "RRNn         2\n",
       "PosN         2\n",
       "PosA         1\n",
       "RRAn         1\n",
       "RRAe         1\n",
       "Name: Condition2, dtype: int64"
      ]
     },
     "execution_count": 32,
     "metadata": {},
     "output_type": "execute_result"
    }
   ],
   "source": [
    "df['Condition2'].value_counts()"
   ]
  },
  {
   "cell_type": "code",
   "execution_count": 33,
   "id": "8d8a9fa3",
   "metadata": {},
   "outputs": [],
   "source": [
    "df.loc[df[\"Condition2\"] == \"Norm\", \"Condition2\"] = 0\n",
    "df.loc[df[\"Condition2\"] == \"Feedr\", \"Condition2\"] = 1\n",
    "df.loc[df[\"Condition2\"] == \"Artery\", \"Condition2\"] = 2\n",
    "df.loc[df[\"Condition2\"] == \"RRAn\", \"Condition2\"] = 3\n",
    "df.loc[df[\"Condition2\"] == \"PosN\", \"Condition2\"] = 4\n",
    "df.loc[df[\"Condition2\"] == \"RRAe\", \"Condition2\"] = 5\n",
    "df.loc[df[\"Condition2\"] == \"PosA\", \"Condition2\"] = 6\n",
    "df.loc[df[\"Condition2\"] == \"RRNn\", \"Condition2\"] = 7\n",
    "df.loc[df[\"Condition2\"] == \"RRNe\", \"Condition2\"] = 8"
   ]
  },
  {
   "cell_type": "code",
   "execution_count": 34,
   "id": "2712878a",
   "metadata": {},
   "outputs": [
    {
     "data": {
      "text/plain": [
       "1Fam      1220\n",
       "TwnhsE     114\n",
       "Duplex      52\n",
       "Twnhs       43\n",
       "2fmCon      31\n",
       "Name: BldgType, dtype: int64"
      ]
     },
     "execution_count": 34,
     "metadata": {},
     "output_type": "execute_result"
    }
   ],
   "source": [
    "df['BldgType'].value_counts()"
   ]
  },
  {
   "cell_type": "code",
   "execution_count": 35,
   "id": "18b6099f",
   "metadata": {},
   "outputs": [],
   "source": [
    "df.loc[df[\"BldgType\"] == \"1Fam\", \"BldgType\"] = 0\n",
    "df.loc[df[\"BldgType\"] == \"TwnhsE\", \"BldgType\"] = 1\n",
    "df.loc[df[\"BldgType\"] == \"Duplex\", \"BldgType\"] = 2\n",
    "df.loc[df[\"BldgType\"] == \"Twnhs\", \"BldgType\"] = 3\n",
    "df.loc[df[\"BldgType\"] == \"2fmCon\", \"BldgType\"] = 4"
   ]
  },
  {
   "cell_type": "code",
   "execution_count": 36,
   "id": "0125e2a0",
   "metadata": {},
   "outputs": [
    {
     "data": {
      "text/plain": [
       "1Story    726\n",
       "2Story    445\n",
       "1.5Fin    154\n",
       "SLvl       65\n",
       "SFoyer     37\n",
       "1.5Unf     14\n",
       "2.5Unf     11\n",
       "2.5Fin      8\n",
       "Name: HouseStyle, dtype: int64"
      ]
     },
     "execution_count": 36,
     "metadata": {},
     "output_type": "execute_result"
    }
   ],
   "source": [
    "df['HouseStyle'].value_counts()"
   ]
  },
  {
   "cell_type": "code",
   "execution_count": 37,
   "id": "d5d0a072",
   "metadata": {},
   "outputs": [],
   "source": [
    "df.loc[df[\"HouseStyle\"] == \"1Story\", \"HouseStyle\"] = 0\n",
    "df.loc[df[\"HouseStyle\"] == \"2Story\", \"HouseStyle\"] = 1\n",
    "df.loc[df[\"HouseStyle\"] == \"1.5Fin\", \"HouseStyle\"] = 2\n",
    "df.loc[df[\"HouseStyle\"] == \"SLvl\", \"HouseStyle\"] = 3\n",
    "df.loc[df[\"HouseStyle\"] == \"SFoyer\", \"HouseStyle\"] = 4\n",
    "df.loc[df[\"HouseStyle\"] == \"1.5Unf\", \"HouseStyle\"] = 5\n",
    "df.loc[df[\"HouseStyle\"] == \"2.5Unf\", \"HouseStyle\"] = 6\n",
    "df.loc[df[\"HouseStyle\"] == \"2.5Fin\", \"HouseStyle\"] = 7"
   ]
  },
  {
   "cell_type": "code",
   "execution_count": 38,
   "id": "e9453d25",
   "metadata": {},
   "outputs": [
    {
     "data": {
      "text/plain": [
       "Gable      1141\n",
       "Hip         286\n",
       "Flat         13\n",
       "Gambrel      11\n",
       "Mansard       7\n",
       "Shed          2\n",
       "Name: RoofStyle, dtype: int64"
      ]
     },
     "execution_count": 38,
     "metadata": {},
     "output_type": "execute_result"
    }
   ],
   "source": [
    "df['RoofStyle'].value_counts()"
   ]
  },
  {
   "cell_type": "code",
   "execution_count": 39,
   "id": "79dec49d",
   "metadata": {},
   "outputs": [],
   "source": [
    "df.loc[df[\"RoofStyle\"] == \"Gable\", \"RoofStyle\"] = 0\n",
    "df.loc[df[\"RoofStyle\"] == \"Hip\", \"RoofStyle\"] = 1\n",
    "df.loc[df[\"RoofStyle\"] == \"Flat\", \"RoofStyle\"] = 2\n",
    "df.loc[df[\"RoofStyle\"] == \"Gambrel\", \"RoofStyle\"] = 3\n",
    "df.loc[df[\"RoofStyle\"] == \"Mansard\", \"RoofStyle\"] = 4\n",
    "df.loc[df[\"RoofStyle\"] == \"Shed\", \"RoofStyle\"] = 5"
   ]
  },
  {
   "cell_type": "code",
   "execution_count": 40,
   "id": "2baf379d",
   "metadata": {},
   "outputs": [
    {
     "data": {
      "text/plain": [
       "CompShg    1434\n",
       "Tar&Grv      11\n",
       "WdShngl       6\n",
       "WdShake       5\n",
       "Metal         1\n",
       "Membran       1\n",
       "Roll          1\n",
       "ClyTile       1\n",
       "Name: RoofMatl, dtype: int64"
      ]
     },
     "execution_count": 40,
     "metadata": {},
     "output_type": "execute_result"
    }
   ],
   "source": [
    "df['RoofMatl'].value_counts()"
   ]
  },
  {
   "cell_type": "code",
   "execution_count": 41,
   "id": "bf7062bf",
   "metadata": {},
   "outputs": [],
   "source": [
    "df.loc[df[\"RoofMatl\"] == \"CompShg\", \"RoofMatl\"] = 0\n",
    "df.loc[df[\"RoofMatl\"] == \"Tar&Grv\", \"RoofMatl\"] = 1\n",
    "df.loc[df[\"RoofMatl\"] == \"WdShngl\", \"RoofMatl\"] = 2\n",
    "df.loc[df[\"RoofMatl\"] == \"WdShake\", \"RoofMatl\"] = 3\n",
    "df.loc[df[\"RoofMatl\"] == \"Metal\", \"RoofMatl\"] = 4\n",
    "df.loc[df[\"RoofMatl\"] == \"Membran\", \"RoofMatl\"] = 5\n",
    "df.loc[df[\"RoofMatl\"] == \"Roll\", \"RoofMatl\"] = 6\n",
    "df.loc[df[\"RoofMatl\"] == \"ClyTile\", \"RoofMatl\"] = 7"
   ]
  },
  {
   "cell_type": "code",
   "execution_count": 42,
   "id": "7ff8902e",
   "metadata": {},
   "outputs": [
    {
     "data": {
      "text/plain": [
       "VinylSd    515\n",
       "HdBoard    222\n",
       "MetalSd    220\n",
       "Wd Sdng    206\n",
       "Plywood    108\n",
       "CemntBd     61\n",
       "BrkFace     50\n",
       "WdShing     26\n",
       "Stucco      25\n",
       "AsbShng     20\n",
       "BrkComm      2\n",
       "Stone        2\n",
       "AsphShn      1\n",
       "ImStucc      1\n",
       "CBlock       1\n",
       "Name: Exterior1st, dtype: int64"
      ]
     },
     "execution_count": 42,
     "metadata": {},
     "output_type": "execute_result"
    }
   ],
   "source": [
    "df['Exterior1st'].value_counts()"
   ]
  },
  {
   "cell_type": "code",
   "execution_count": 43,
   "id": "8c2e33b0",
   "metadata": {},
   "outputs": [],
   "source": [
    "df.loc[df[\"Exterior1st\"] == \"VinylSd\", \"Exterior1st\"] = 0\n",
    "df.loc[df[\"Exterior1st\"] == \"HdBoard\", \"Exterior1st\"] = 1\n",
    "df.loc[df[\"Exterior1st\"] == \"MetalSd\", \"Exterior1st\"] = 2\n",
    "df.loc[df[\"Exterior1st\"] == \"Wd Sdng\", \"Exterior1st\"] = 3\n",
    "df.loc[df[\"Exterior1st\"] == \"Plywood\", \"Exterior1st\"] = 4\n",
    "df.loc[df[\"Exterior1st\"] == \"CemntBd\", \"Exterior1st\"] = 5\n",
    "df.loc[df[\"Exterior1st\"] == \"BrkFace\", \"Exterior1st\"] = 6\n",
    "df.loc[df[\"Exterior1st\"] == \"WdShing\", \"Exterior1st\"] = 7\n",
    "df.loc[df[\"Exterior1st\"] == \"Stucco\", \"Exterior1st\"] = 8\n",
    "df.loc[df[\"Exterior1st\"] == \"AsbShng\", \"Exterior1st\"] = 9\n",
    "df.loc[df[\"Exterior1st\"] == \"BrkComm\", \"Exterior1st\"] = 10\n",
    "df.loc[df[\"Exterior1st\"] == \"Stone\", \"Exterior1st\"] = 11\n",
    "df.loc[df[\"Exterior1st\"] == \"AsphShn\", \"Exterior1st\"] = 12\n",
    "df.loc[df[\"Exterior1st\"] == \"ImStucc\", \"Exterior1st\"] = 13\n",
    "df.loc[df[\"Exterior1st\"] == \"CBlock\", \"Exterior1st\"] = 14\n",
    "\n",
    "df.loc[df[\"Exterior2nd\"] == \"VinylSd\", \"Exterior2nd\"] = 0\n",
    "df.loc[df[\"Exterior2nd\"] == \"HdBoard\", \"Exterior2nd\"] = 1\n",
    "df.loc[df[\"Exterior2nd\"] == \"MetalSd\", \"Exterior2nd\"] = 2\n",
    "df.loc[df[\"Exterior2nd\"] == \"Wd Sdng\", \"Exterior2nd\"] = 3\n",
    "df.loc[df[\"Exterior2nd\"] == \"Plywood\", \"Exterior2nd\"] = 4\n",
    "df.loc[df[\"Exterior2nd\"] == \"CemntBd\", \"Exterior2nd\"] = 5\n",
    "df.loc[df[\"Exterior2nd\"] == \"BrkFace\", \"Exterior2nd\"] = 6\n",
    "df.loc[df[\"Exterior2nd\"] == \"WdShing\", \"Exterior2nd\"] = 7\n",
    "df.loc[df[\"Exterior2nd\"] == \"Stucco\", \"Exterior2nd\"] = 8\n",
    "df.loc[df[\"Exterior2nd\"] == \"AsbShng\", \"Exterior2nd\"] = 9\n",
    "df.loc[df[\"Exterior2nd\"] == \"BrkComm\", \"Exterior2nd\"] = 10\n",
    "df.loc[df[\"Exterior2nd\"] == \"Stone\", \"Exterior2nd\"] = 11\n",
    "df.loc[df[\"Exterior2nd\"] == \"AsphShn\", \"Exterior2nd\"] = 12\n",
    "df.loc[df[\"Exterior2nd\"] == \"ImStucc\", \"Exterior2nd\"] = 13\n",
    "df.loc[df[\"Exterior2nd\"] == \"CBlock\", \"Exterior2nd\"] = 14"
   ]
  },
  {
   "cell_type": "code",
   "execution_count": 44,
   "id": "08bb60a7",
   "metadata": {},
   "outputs": [
    {
     "data": {
      "text/plain": [
       "None       864\n",
       "BrkFace    445\n",
       "Stone      128\n",
       "BrkCmn      15\n",
       "Name: MasVnrType, dtype: int64"
      ]
     },
     "execution_count": 44,
     "metadata": {},
     "output_type": "execute_result"
    }
   ],
   "source": [
    "df['MasVnrType'].value_counts()"
   ]
  },
  {
   "cell_type": "code",
   "execution_count": 45,
   "id": "6021b720",
   "metadata": {},
   "outputs": [],
   "source": [
    "df.loc[df[\"MasVnrType\"] == \"None\", \"MasVnrType\"] = 0\n",
    "df.loc[df[\"MasVnrType\"] == \"BrkFace\", \"MasVnrType\"] = 1\n",
    "df.loc[df[\"MasVnrType\"] == \"Stone\", \"MasVnrType\"] = 2\n",
    "df.loc[df[\"MasVnrType\"] == \"BrkCmn\", \"MasVnrType\"] = 3\n",
    "df.loc[df[\"MasVnrType\"] == \"CBlock\", \"MasVnrType\"] = 4"
   ]
  },
  {
   "cell_type": "code",
   "execution_count": 46,
   "id": "a075e3cc",
   "metadata": {},
   "outputs": [
    {
     "data": {
      "text/plain": [
       "TA    906\n",
       "Gd    488\n",
       "Ex     52\n",
       "Fa     14\n",
       "Name: ExterQual, dtype: int64"
      ]
     },
     "execution_count": 46,
     "metadata": {},
     "output_type": "execute_result"
    }
   ],
   "source": [
    "df['ExterQual'].value_counts()"
   ]
  },
  {
   "cell_type": "code",
   "execution_count": 47,
   "id": "36629df3",
   "metadata": {},
   "outputs": [
    {
     "data": {
      "text/plain": [
       "TA    1282\n",
       "Gd     146\n",
       "Fa      28\n",
       "Ex       3\n",
       "Po       1\n",
       "Name: ExterCond, dtype: int64"
      ]
     },
     "execution_count": 47,
     "metadata": {},
     "output_type": "execute_result"
    }
   ],
   "source": [
    "df['ExterCond'].value_counts()"
   ]
  },
  {
   "cell_type": "code",
   "execution_count": 48,
   "id": "b989b834",
   "metadata": {},
   "outputs": [],
   "source": [
    "df.loc[df[\"ExterQual\"] == \"TA\", \"ExterQual\"] = 0\n",
    "df.loc[df[\"ExterQual\"] == \"Gd\", \"ExterQual\"] = 1\n",
    "df.loc[df[\"ExterQual\"] == \"Fa\", \"ExterQual\"] = 2\n",
    "df.loc[df[\"ExterQual\"] == \"Ex\", \"ExterQual\"] = 3\n",
    "df.loc[df[\"ExterQual\"] == \"Po\", \"ExterQual\"] = 4\n",
    "\n",
    "df.loc[df[\"ExterCond\"] == \"TA\", \"ExterCond\"] = 0\n",
    "df.loc[df[\"ExterCond\"] == \"Gd\", \"ExterCond\"] = 1\n",
    "df.loc[df[\"ExterCond\"] == \"Fa\", \"ExterCond\"] = 2\n",
    "df.loc[df[\"ExterCond\"] == \"Ex\", \"ExterCond\"] = 3\n",
    "df.loc[df[\"ExterCond\"] == \"Po\", \"ExterCond\"] = 4"
   ]
  },
  {
   "cell_type": "code",
   "execution_count": 49,
   "id": "84ee9bb2",
   "metadata": {},
   "outputs": [
    {
     "data": {
      "text/plain": [
       "PConc     647\n",
       "CBlock    634\n",
       "BrkTil    146\n",
       "Slab       24\n",
       "Stone       6\n",
       "Wood        3\n",
       "Name: Foundation, dtype: int64"
      ]
     },
     "execution_count": 49,
     "metadata": {},
     "output_type": "execute_result"
    }
   ],
   "source": [
    "df['Foundation'].value_counts()"
   ]
  },
  {
   "cell_type": "code",
   "execution_count": 50,
   "id": "e0859046",
   "metadata": {},
   "outputs": [],
   "source": [
    "df.loc[df[\"Foundation\"] == \"PConc\", \"Foundation\"] = 0\n",
    "df.loc[df[\"Foundation\"] == \"CBlock\", \"Foundation\"] = 1\n",
    "df.loc[df[\"Foundation\"] == \"BrkTil\", \"Foundation\"] = 2\n",
    "df.loc[df[\"Foundation\"] == \"Slab\", \"Foundation\"] = 3\n",
    "df.loc[df[\"Foundation\"] == \"Stone\", \"Foundation\"] = 4\n",
    "df.loc[df[\"Foundation\"] == \"Wood\", \"Foundation\"] = 5"
   ]
  },
  {
   "cell_type": "code",
   "execution_count": 51,
   "id": "abd9b46e",
   "metadata": {},
   "outputs": [
    {
     "data": {
      "text/plain": [
       "TA    649\n",
       "Gd    618\n",
       "Ex    121\n",
       "Fa     35\n",
       "Name: BsmtQual, dtype: int64"
      ]
     },
     "execution_count": 51,
     "metadata": {},
     "output_type": "execute_result"
    }
   ],
   "source": [
    "df['BsmtQual'].value_counts()"
   ]
  },
  {
   "cell_type": "code",
   "execution_count": 52,
   "id": "fce8bd4a",
   "metadata": {},
   "outputs": [
    {
     "data": {
      "text/plain": [
       "TA    1311\n",
       "Gd      65\n",
       "Fa      45\n",
       "Po       2\n",
       "Name: BsmtCond, dtype: int64"
      ]
     },
     "execution_count": 52,
     "metadata": {},
     "output_type": "execute_result"
    }
   ],
   "source": [
    "df['BsmtCond'].value_counts()"
   ]
  },
  {
   "cell_type": "code",
   "execution_count": 53,
   "id": "abb3064a",
   "metadata": {},
   "outputs": [],
   "source": [
    "df.loc[df[\"BsmtQual\"] == \"Ex\", \"BsmtQual\"] = 0\n",
    "df.loc[df[\"BsmtQual\"] == \"Gd\", \"BsmtQual\"] = 1\n",
    "df.loc[df[\"BsmtQual\"] == \"TA\", \"BsmtQual\"] = 2\n",
    "df.loc[df[\"BsmtQual\"] == \"Fa\", \"BsmtQual\"] = 3\n",
    "df.loc[df[\"BsmtQual\"] == \"Po\", \"BsmtQual\"] = 4\n",
    "df.loc[df[\"BsmtQual\"] == \"NA\", \"BsmtQual\"] = 5\n",
    "\n",
    "df.loc[df[\"BsmtCond\"] == \"Ex\", \"BsmtCond\"] = 0\n",
    "df.loc[df[\"BsmtCond\"] == \"Gd\", \"BsmtCond\"] = 1\n",
    "df.loc[df[\"BsmtCond\"] == \"TA\", \"BsmtCond\"] = 2\n",
    "df.loc[df[\"BsmtCond\"] == \"Fa\", \"BsmtCond\"] = 3\n",
    "df.loc[df[\"BsmtCond\"] == \"Po\", \"BsmtCond\"] = 4\n",
    "df.loc[df[\"BsmtCond\"] == \"NA\", \"BsmtCond\"] = 5"
   ]
  },
  {
   "cell_type": "code",
   "execution_count": 54,
   "id": "81a3318f",
   "metadata": {},
   "outputs": [
    {
     "data": {
      "text/plain": [
       "No    953\n",
       "Av    221\n",
       "Gd    134\n",
       "Mn    114\n",
       "Name: BsmtExposure, dtype: int64"
      ]
     },
     "execution_count": 54,
     "metadata": {},
     "output_type": "execute_result"
    }
   ],
   "source": [
    "df['BsmtExposure'].value_counts()"
   ]
  },
  {
   "cell_type": "code",
   "execution_count": 55,
   "id": "5086dd97",
   "metadata": {},
   "outputs": [],
   "source": [
    "df.loc[df[\"BsmtExposure\"] == \"No\", \"BsmtExposure\"] = 0\n",
    "df.loc[df[\"BsmtExposure\"] == \"Av\", \"BsmtExposure\"] = 1\n",
    "df.loc[df[\"BsmtExposure\"] == \"Gd\", \"BsmtExposure\"] = 2\n",
    "df.loc[df[\"BsmtExposure\"] == \"Mn\", \"BsmtExposure\"] = 3\n",
    "df.loc[df[\"BsmtExposure\"] == \"NA\", \"BsmtExposure\"] = 4"
   ]
  },
  {
   "cell_type": "code",
   "execution_count": 56,
   "id": "cf7ac0bd",
   "metadata": {},
   "outputs": [
    {
     "data": {
      "text/plain": [
       "Unf    430\n",
       "GLQ    418\n",
       "ALQ    220\n",
       "BLQ    148\n",
       "Rec    133\n",
       "LwQ     74\n",
       "Name: BsmtFinType1, dtype: int64"
      ]
     },
     "execution_count": 56,
     "metadata": {},
     "output_type": "execute_result"
    }
   ],
   "source": [
    "df['BsmtFinType1'].value_counts()"
   ]
  },
  {
   "cell_type": "code",
   "execution_count": 57,
   "id": "729f66ae",
   "metadata": {},
   "outputs": [],
   "source": [
    "df.loc[df[\"BsmtFinType1\"] == \"Unf\", \"BsmtFinType1\"] = 0\n",
    "df.loc[df[\"BsmtFinType1\"] == \"GLQ\", \"BsmtFinType1\"] = 1\n",
    "df.loc[df[\"BsmtFinType1\"] == \"ALQ\", \"BsmtFinType1\"] = 2\n",
    "df.loc[df[\"BsmtFinType1\"] == \"BLQ\", \"BsmtFinType1\"] = 3\n",
    "df.loc[df[\"BsmtFinType1\"] == \"Rec\", \"BsmtFinType1\"] = 4\n",
    "df.loc[df[\"BsmtFinType1\"] == \"LwQ\", \"BsmtFinType1\"] = 5\n",
    "\n",
    "df.loc[df[\"BsmtFinType2\"] == \"Unf\", \"BsmtFinType2\"] = 0\n",
    "df.loc[df[\"BsmtFinType2\"] == \"GLQ\", \"BsmtFinType2\"] = 1\n",
    "df.loc[df[\"BsmtFinType2\"] == \"ALQ\", \"BsmtFinType2\"] = 2\n",
    "df.loc[df[\"BsmtFinType2\"] == \"BLQ\", \"BsmtFinType2\"] = 3\n",
    "df.loc[df[\"BsmtFinType2\"] == \"Rec\", \"BsmtFinType2\"] = 4\n",
    "df.loc[df[\"BsmtFinType2\"] == \"LwQ\", \"BsmtFinType2\"] = 5"
   ]
  },
  {
   "cell_type": "code",
   "execution_count": 58,
   "id": "84780e53",
   "metadata": {},
   "outputs": [
    {
     "data": {
      "text/plain": [
       "GasA     1428\n",
       "GasW       18\n",
       "Grav        7\n",
       "Wall        4\n",
       "OthW        2\n",
       "Floor       1\n",
       "Name: Heating, dtype: int64"
      ]
     },
     "execution_count": 58,
     "metadata": {},
     "output_type": "execute_result"
    }
   ],
   "source": [
    "df['Heating'].value_counts()"
   ]
  },
  {
   "cell_type": "code",
   "execution_count": 59,
   "id": "5a02a38d",
   "metadata": {},
   "outputs": [],
   "source": [
    "df.loc[df[\"Heating\"] == \"GasA\", \"Heating\"] = 0\n",
    "df.loc[df[\"Heating\"] == \"GasW\", \"Heating\"] = 1\n",
    "df.loc[df[\"Heating\"] == \"Grav\", \"Heating\"] = 2\n",
    "df.loc[df[\"Heating\"] == \"Wall\", \"Heating\"] = 3\n",
    "df.loc[df[\"Heating\"] == \"OthW\", \"Heating\"] = 4\n",
    "df.loc[df[\"Heating\"] == \"Floor\", \"Heating\"] = 5"
   ]
  },
  {
   "cell_type": "code",
   "execution_count": 60,
   "id": "d0b7c55c",
   "metadata": {},
   "outputs": [
    {
     "data": {
      "text/plain": [
       "Ex    741\n",
       "TA    428\n",
       "Gd    241\n",
       "Fa     49\n",
       "Po      1\n",
       "Name: HeatingQC, dtype: int64"
      ]
     },
     "execution_count": 60,
     "metadata": {},
     "output_type": "execute_result"
    }
   ],
   "source": [
    "df['HeatingQC'].value_counts()"
   ]
  },
  {
   "cell_type": "code",
   "execution_count": 61,
   "id": "204c3d08",
   "metadata": {},
   "outputs": [],
   "source": [
    "df.loc[df[\"HeatingQC\"] == \"Ex\", \"HeatingQC\"] = 0\n",
    "df.loc[df[\"HeatingQC\"] == \"TA\", \"HeatingQC\"] = 1\n",
    "df.loc[df[\"HeatingQC\"] == \"Gd\", \"HeatingQC\"] = 2\n",
    "df.loc[df[\"HeatingQC\"] == \"Fa\", \"HeatingQC\"] = 3\n",
    "df.loc[df[\"HeatingQC\"] == \"Po\", \"HeatingQC\"] = 4"
   ]
  },
  {
   "cell_type": "code",
   "execution_count": 62,
   "id": "01052608",
   "metadata": {},
   "outputs": [
    {
     "data": {
      "text/plain": [
       "Y    1365\n",
       "N      95\n",
       "Name: CentralAir, dtype: int64"
      ]
     },
     "execution_count": 62,
     "metadata": {},
     "output_type": "execute_result"
    }
   ],
   "source": [
    "df['CentralAir'].value_counts()"
   ]
  },
  {
   "cell_type": "code",
   "execution_count": 63,
   "id": "6d5d1abd",
   "metadata": {},
   "outputs": [],
   "source": [
    "df.loc[df[\"CentralAir\"] == \"Y\", \"CentralAir\"] = 0\n",
    "df.loc[df[\"CentralAir\"] == \"N\", \"CentralAir\"] = 1"
   ]
  },
  {
   "cell_type": "code",
   "execution_count": 64,
   "id": "07ba244c",
   "metadata": {},
   "outputs": [
    {
     "data": {
      "text/plain": [
       "SBrkr    1334\n",
       "FuseA      94\n",
       "FuseF      27\n",
       "FuseP       3\n",
       "Mix         1\n",
       "Name: Electrical, dtype: int64"
      ]
     },
     "execution_count": 64,
     "metadata": {},
     "output_type": "execute_result"
    }
   ],
   "source": [
    "df['Electrical'].value_counts()"
   ]
  },
  {
   "cell_type": "code",
   "execution_count": 65,
   "id": "0616e7b5",
   "metadata": {},
   "outputs": [],
   "source": [
    "df.loc[df[\"Electrical\"] == \"SBrkr\", \"Electrical\"] = 0\n",
    "df.loc[df[\"Electrical\"] == \"FuseA\", \"Electrical\"] = 1\n",
    "df.loc[df[\"Electrical\"] == \"FuseF\", \"Electrical\"] = 2\n",
    "df.loc[df[\"Electrical\"] == \"FuseP\", \"Electrical\"] = 3\n",
    "df.loc[df[\"Electrical\"] == \"Mix\", \"Electrical\"] = 4"
   ]
  },
  {
   "cell_type": "code",
   "execution_count": 66,
   "id": "62d961bb",
   "metadata": {},
   "outputs": [
    {
     "data": {
      "text/plain": [
       "TA    735\n",
       "Gd    586\n",
       "Ex    100\n",
       "Fa     39\n",
       "Name: KitchenQual, dtype: int64"
      ]
     },
     "execution_count": 66,
     "metadata": {},
     "output_type": "execute_result"
    }
   ],
   "source": [
    "df['KitchenQual'].value_counts()"
   ]
  },
  {
   "cell_type": "code",
   "execution_count": 67,
   "id": "80644087",
   "metadata": {},
   "outputs": [],
   "source": [
    "df.loc[df[\"KitchenQual\"] == \"TA\", \"KitchenQual\"] = 0\n",
    "df.loc[df[\"KitchenQual\"] == \"Gd\", \"KitchenQual\"] = 1\n",
    "df.loc[df[\"KitchenQual\"] == \"Ex\", \"KitchenQual\"] = 2\n",
    "df.loc[df[\"KitchenQual\"] == \"Fa\", \"KitchenQual\"] = 3\n",
    "df.loc[df[\"KitchenQual\"] == \"Po\", \"KitchenQual\"] = 4"
   ]
  },
  {
   "cell_type": "code",
   "execution_count": 68,
   "id": "a147bf64",
   "metadata": {},
   "outputs": [
    {
     "data": {
      "text/plain": [
       "Typ     1360\n",
       "Min2      34\n",
       "Min1      31\n",
       "Mod       15\n",
       "Maj1      14\n",
       "Maj2       5\n",
       "Sev        1\n",
       "Name: Functional, dtype: int64"
      ]
     },
     "execution_count": 68,
     "metadata": {},
     "output_type": "execute_result"
    }
   ],
   "source": [
    "df['Functional'].value_counts()"
   ]
  },
  {
   "cell_type": "code",
   "execution_count": 69,
   "id": "9e025a51",
   "metadata": {},
   "outputs": [],
   "source": [
    "df.loc[df[\"Functional\"] == \"Typ\", \"Functional\"] = 0\n",
    "df.loc[df[\"Functional\"] == \"Min2\", \"Functional\"] = 1\n",
    "df.loc[df[\"Functional\"] == \"Min1\", \"Functional\"] = 2\n",
    "df.loc[df[\"Functional\"] == \"Mod\", \"Functional\"] = 3\n",
    "df.loc[df[\"Functional\"] == \"Maj1\", \"Functional\"] = 4\n",
    "df.loc[df[\"Functional\"] == \"Maj2\", \"Functional\"] = 5\n",
    "df.loc[df[\"Functional\"] == \"Sev\", \"Functional\"] = 6"
   ]
  },
  {
   "cell_type": "code",
   "execution_count": 70,
   "id": "69b2b1eb",
   "metadata": {},
   "outputs": [
    {
     "data": {
      "text/plain": [
       "Gd    380\n",
       "TA    313\n",
       "Fa     33\n",
       "Ex     24\n",
       "Po     20\n",
       "Name: FireplaceQu, dtype: int64"
      ]
     },
     "execution_count": 70,
     "metadata": {},
     "output_type": "execute_result"
    }
   ],
   "source": [
    "df['FireplaceQu'].value_counts()"
   ]
  },
  {
   "cell_type": "code",
   "execution_count": 71,
   "id": "e6460644",
   "metadata": {},
   "outputs": [],
   "source": [
    "df.loc[df[\"FireplaceQu\"] == \"Gd\", \"FireplaceQu\"] = 0\n",
    "df.loc[df[\"FireplaceQu\"] == \"TA\", \"FireplaceQu\"] = 1\n",
    "df.loc[df[\"FireplaceQu\"] == \"Fa\", \"FireplaceQu\"] = 2\n",
    "df.loc[df[\"FireplaceQu\"] == \"Ex\", \"FireplaceQu\"] = 3\n",
    "df.loc[df[\"FireplaceQu\"] == \"Po\", \"FireplaceQu\"] = 4\n",
    "df.loc[df[\"FireplaceQu\"] == \"NA\", \"FireplaceQu\"] = 5"
   ]
  },
  {
   "cell_type": "code",
   "execution_count": 72,
   "id": "803d9f1a",
   "metadata": {},
   "outputs": [
    {
     "data": {
      "text/plain": [
       "Attchd     870\n",
       "Detchd     387\n",
       "BuiltIn     88\n",
       "Basment     19\n",
       "CarPort      9\n",
       "2Types       6\n",
       "Name: GarageType, dtype: int64"
      ]
     },
     "execution_count": 72,
     "metadata": {},
     "output_type": "execute_result"
    }
   ],
   "source": [
    "df['GarageType'].value_counts()"
   ]
  },
  {
   "cell_type": "code",
   "execution_count": 73,
   "id": "b98f7e02",
   "metadata": {},
   "outputs": [],
   "source": [
    "df.loc[df[\"GarageType\"] == \"Attchd\", \"GarageType\"] = 0\n",
    "df.loc[df[\"GarageType\"] == \"Detchd\", \"GarageType\"] = 1\n",
    "df.loc[df[\"GarageType\"] == \"BuiltIn\", \"GarageType\"] = 2\n",
    "df.loc[df[\"GarageType\"] == \"Basment\", \"GarageType\"] = 3\n",
    "df.loc[df[\"GarageType\"] == \"CarPort\", \"GarageType\"] = 4\n",
    "df.loc[df[\"GarageType\"] == \"2Types\", \"GarageType\"] = 5\n",
    "df.loc[df[\"GarageType\"] == \"NA\", \"GarageType\"] = 6"
   ]
  },
  {
   "cell_type": "code",
   "execution_count": 74,
   "id": "e62c6118",
   "metadata": {},
   "outputs": [
    {
     "data": {
      "text/plain": [
       "Unf    605\n",
       "RFn    422\n",
       "Fin    352\n",
       "Name: GarageFinish, dtype: int64"
      ]
     },
     "execution_count": 74,
     "metadata": {},
     "output_type": "execute_result"
    }
   ],
   "source": [
    "df['GarageFinish'].value_counts()"
   ]
  },
  {
   "cell_type": "code",
   "execution_count": 75,
   "id": "270e8d5e",
   "metadata": {},
   "outputs": [],
   "source": [
    "df.loc[df[\"GarageFinish\"] == \"Unf\", \"GarageFinish\"] = 0\n",
    "df.loc[df[\"GarageFinish\"] == \"RFn\", \"GarageFinish\"] = 1\n",
    "df.loc[df[\"GarageFinish\"] == \"Fin\", \"GarageFinish\"] = 2\n",
    "df.loc[df[\"GarageFinish\"] == \"NA\", \"GarageFinish\"] = 3"
   ]
  },
  {
   "cell_type": "code",
   "execution_count": 76,
   "id": "9b8d90c3",
   "metadata": {},
   "outputs": [
    {
     "data": {
      "text/plain": [
       "TA    1311\n",
       "Fa      48\n",
       "Gd      14\n",
       "Ex       3\n",
       "Po       3\n",
       "Name: GarageQual, dtype: int64"
      ]
     },
     "execution_count": 76,
     "metadata": {},
     "output_type": "execute_result"
    }
   ],
   "source": [
    "df['GarageQual'].value_counts()"
   ]
  },
  {
   "cell_type": "code",
   "execution_count": 77,
   "id": "420d5a47",
   "metadata": {},
   "outputs": [],
   "source": [
    "df.loc[df[\"GarageQual\"] == \"TA\", \"GarageQual\"] = 0\n",
    "df.loc[df[\"GarageQual\"] == \"Fa\", \"GarageQual\"] = 1\n",
    "df.loc[df[\"GarageQual\"] == \"Gd\", \"GarageQual\"] = 2\n",
    "df.loc[df[\"GarageQual\"] == \"Ex\", \"GarageQual\"] = 3\n",
    "df.loc[df[\"GarageQual\"] == \"Po\", \"GarageQual\"] = 4\n",
    "df.loc[df[\"GarageQual\"] == \"NA\", \"GarageQual\"] = 5\n",
    "\n",
    "df.loc[df[\"GarageCond\"] == \"TA\", \"GarageCond\"] = 0\n",
    "df.loc[df[\"GarageCond\"] == \"Fa\", \"GarageCond\"] = 1\n",
    "df.loc[df[\"GarageCond\"] == \"Gd\", \"GarageCond\"] = 2\n",
    "df.loc[df[\"GarageCond\"] == \"Ex\", \"GarageCond\"] = 3\n",
    "df.loc[df[\"GarageCond\"] == \"Po\", \"GarageCond\"] = 4\n",
    "df.loc[df[\"GarageCond\"] == \"NA\", \"GarageCond\"] = 5"
   ]
  },
  {
   "cell_type": "code",
   "execution_count": 78,
   "id": "182390da",
   "metadata": {},
   "outputs": [
    {
     "data": {
      "text/plain": [
       "Y    1340\n",
       "N      90\n",
       "P      30\n",
       "Name: PavedDrive, dtype: int64"
      ]
     },
     "execution_count": 78,
     "metadata": {},
     "output_type": "execute_result"
    }
   ],
   "source": [
    "df['PavedDrive'].value_counts()"
   ]
  },
  {
   "cell_type": "code",
   "execution_count": 79,
   "id": "1081e0e5",
   "metadata": {},
   "outputs": [],
   "source": [
    "df.loc[df[\"PavedDrive\"] == \"Y\", \"PavedDrive\"] = 0\n",
    "df.loc[df[\"PavedDrive\"] == \"N\", \"PavedDrive\"] = 1\n",
    "df.loc[df[\"PavedDrive\"] == \"P\", \"PavedDrive\"] = 2"
   ]
  },
  {
   "cell_type": "code",
   "execution_count": 80,
   "id": "3432166c",
   "metadata": {},
   "outputs": [
    {
     "data": {
      "text/plain": [
       "Gd    3\n",
       "Ex    2\n",
       "Fa    2\n",
       "Name: PoolQC, dtype: int64"
      ]
     },
     "execution_count": 80,
     "metadata": {},
     "output_type": "execute_result"
    }
   ],
   "source": [
    "df['PoolQC'].value_counts()"
   ]
  },
  {
   "cell_type": "code",
   "execution_count": 81,
   "id": "4fa64902",
   "metadata": {},
   "outputs": [],
   "source": [
    "df.loc[df[\"PoolQC\"] == \"Gd\", \"PoolQC\"] = 0\n",
    "df.loc[df[\"PoolQC\"] == \"Ex\", \"PoolQC\"] = 1\n",
    "df.loc[df[\"PoolQC\"] == \"Fa\", \"PoolQC\"] = 2\n",
    "df.loc[df[\"PoolQC\"] == \"NA\", \"PoolQC\"] = 3"
   ]
  },
  {
   "cell_type": "code",
   "execution_count": 82,
   "id": "31d9b6ae",
   "metadata": {},
   "outputs": [
    {
     "data": {
      "text/plain": [
       "MnPrv    157\n",
       "GdPrv     59\n",
       "GdWo      54\n",
       "MnWw      11\n",
       "Name: Fence, dtype: int64"
      ]
     },
     "execution_count": 82,
     "metadata": {},
     "output_type": "execute_result"
    }
   ],
   "source": [
    "df['Fence'].value_counts()"
   ]
  },
  {
   "cell_type": "code",
   "execution_count": 83,
   "id": "a8db1d58",
   "metadata": {},
   "outputs": [],
   "source": [
    "df.loc[df[\"Fence\"] == \"MnPrv\", \"Fence\"] = 0\n",
    "df.loc[df[\"Fence\"] == \"GdPrv\", \"Fence\"] = 1\n",
    "df.loc[df[\"Fence\"] == \"GdWo\", \"Fence\"] = 2\n",
    "df.loc[df[\"Fence\"] == \"MnWw\", \"Fence\"] = 3\n",
    "df.loc[df[\"Fence\"] == \"NA\", \"Fence\"] = 4"
   ]
  },
  {
   "cell_type": "code",
   "execution_count": 84,
   "id": "40d5d816",
   "metadata": {},
   "outputs": [
    {
     "data": {
      "text/plain": [
       "Shed    49\n",
       "Gar2     2\n",
       "Othr     2\n",
       "TenC     1\n",
       "Name: MiscFeature, dtype: int64"
      ]
     },
     "execution_count": 84,
     "metadata": {},
     "output_type": "execute_result"
    }
   ],
   "source": [
    "df['MiscFeature'].value_counts()"
   ]
  },
  {
   "cell_type": "code",
   "execution_count": 85,
   "id": "6b44c844",
   "metadata": {},
   "outputs": [],
   "source": [
    "df.loc[df[\"MiscFeature\"] == \"Elev\", \"MiscFeature\"] = 0\n",
    "df.loc[df[\"MiscFeature\"] == \"Gar2\", \"MiscFeature\"] = 1\n",
    "df.loc[df[\"MiscFeature\"] == \"Othr\", \"MiscFeature\"] = 2\n",
    "df.loc[df[\"MiscFeature\"] == \"Shed\", \"MiscFeature\"] = 3\n",
    "df.loc[df[\"MiscFeature\"] == \"TenC\", \"MiscFeature\"] = 4\n",
    "df.loc[df[\"MiscFeature\"] == \"NA\", \"MiscFeature\"] = 5"
   ]
  },
  {
   "cell_type": "code",
   "execution_count": 86,
   "id": "fc078454",
   "metadata": {},
   "outputs": [
    {
     "data": {
      "text/plain": [
       "WD       1267\n",
       "New       122\n",
       "COD        43\n",
       "ConLD       9\n",
       "ConLI       5\n",
       "ConLw       5\n",
       "CWD         4\n",
       "Oth         3\n",
       "Con         2\n",
       "Name: SaleType, dtype: int64"
      ]
     },
     "execution_count": 86,
     "metadata": {},
     "output_type": "execute_result"
    }
   ],
   "source": [
    "df['SaleType'].value_counts()"
   ]
  },
  {
   "cell_type": "code",
   "execution_count": 87,
   "id": "151d8042",
   "metadata": {},
   "outputs": [],
   "source": [
    "df.loc[df[\"SaleType\"] == \"WD\", \"SaleType\"] = 0\n",
    "df.loc[df[\"SaleType\"] == \"New\", \"SaleType\"] = 1\n",
    "df.loc[df[\"SaleType\"] == \"COD\", \"SaleType\"] = 2\n",
    "df.loc[df[\"SaleType\"] == \"ConLD\", \"SaleType\"] = 3\n",
    "df.loc[df[\"SaleType\"] == \"ConLI\", \"SaleType\"] = 4\n",
    "df.loc[df[\"SaleType\"] == \"ConLw\", \"SaleType\"] = 5\n",
    "df.loc[df[\"SaleType\"] == \"CWD\", \"SaleType\"] = 6\n",
    "df.loc[df[\"SaleType\"] == \"Oth\", \"SaleType\"] = 7\n",
    "df.loc[df[\"SaleType\"] == \"Con\", \"SaleType\"] = 8\n",
    "df.loc[df[\"SaleType\"] == \"VWD\", \"SaleType\"] = 9"
   ]
  },
  {
   "cell_type": "code",
   "execution_count": 88,
   "id": "338ce930",
   "metadata": {},
   "outputs": [
    {
     "data": {
      "text/plain": [
       "Normal     1198\n",
       "Partial     125\n",
       "Abnorml     101\n",
       "Family       20\n",
       "Alloca       12\n",
       "AdjLand       4\n",
       "Name: SaleCondition, dtype: int64"
      ]
     },
     "execution_count": 88,
     "metadata": {},
     "output_type": "execute_result"
    }
   ],
   "source": [
    "df['SaleCondition'].value_counts()"
   ]
  },
  {
   "cell_type": "code",
   "execution_count": 98,
   "id": "efb37e27",
   "metadata": {},
   "outputs": [],
   "source": [
    "df.loc[df[\"SaleCondition\"] == \"Normal\", \"SaleCondition\"] = 0\n",
    "df.loc[df[\"SaleCondition\"] == \"Partial\", \"SaleCondition\"] = 1\n",
    "df.loc[df[\"SaleCondition\"] == \"Abnorml\", \"SaleCondition\"] = 2\n",
    "df.loc[df[\"SaleCondition\"] == \"Family\", \"SaleCondition\"] = 3\n",
    "df.loc[df[\"SaleCondition\"] == \"Alloca\", \"SaleCondition\"] = 4\n",
    "df.loc[df[\"SaleCondition\"] == \"AdjLand\", \"SaleCondition\"] = 5"
   ]
  },
  {
   "cell_type": "code",
   "execution_count": 90,
   "id": "fb16e439",
   "metadata": {},
   "outputs": [
    {
     "data": {
      "text/plain": [
       "60.0     143\n",
       "70.0      70\n",
       "80.0      69\n",
       "50.0      57\n",
       "75.0      53\n",
       "        ... \n",
       "137.0      1\n",
       "141.0      1\n",
       "38.0       1\n",
       "140.0      1\n",
       "46.0       1\n",
       "Name: LotFrontage, Length: 110, dtype: int64"
      ]
     },
     "execution_count": 90,
     "metadata": {},
     "output_type": "execute_result"
    }
   ],
   "source": [
    "df['LotFrontage'].value_counts()"
   ]
  },
  {
   "cell_type": "code",
   "execution_count": 91,
   "id": "92884ae2",
   "metadata": {},
   "outputs": [],
   "source": [
    "df.loc[df[\"LotFrontage\"] == \"NA\", \"LotFrontage\"] = 0"
   ]
  },
  {
   "cell_type": "markdown",
   "id": "e22b4bb7",
   "metadata": {},
   "source": [
    "## Part 3 - Training Models"
   ]
  },
  {
   "cell_type": "code",
   "execution_count": 186,
   "id": "933e5003",
   "metadata": {},
   "outputs": [
    {
     "data": {
      "text/plain": [
       "Id                 0\n",
       "MSSubClass         0\n",
       "MSZoning           0\n",
       "LotFrontage      259\n",
       "LotArea            0\n",
       "                ... \n",
       "MoSold             0\n",
       "YrSold             0\n",
       "SaleType           0\n",
       "SaleCondition      0\n",
       "SalePrice          0\n",
       "Length: 81, dtype: int64"
      ]
     },
     "execution_count": 186,
     "metadata": {},
     "output_type": "execute_result"
    }
   ],
   "source": [
    "df.isnull().sum().transpose()"
   ]
  },
  {
   "cell_type": "code",
   "execution_count": 226,
   "id": "7588843a",
   "metadata": {},
   "outputs": [],
   "source": [
    "x_columns = [\"MSSubClass\", \"MSZoning\", \"SaleCondition\", \"YrSold\", \"LotArea\", \"SaleType\", \"Functional\", \n",
    "             \"LotArea\", \"Neighborhood\", \"Condition1\", \"BldgType\", \"HouseStyle\", \"ExterCond\", \"Street\",\n",
    "             \"OverallQual\", \"OverallCond\", \"YearBuilt\", \"YearRemodAdd\", \"Exterior1st\", \"ExterQual\",\n",
    "             \"Foundation\", \"CentralAir\", \"1stFlrSF\", \"2ndFlrSF\", \"GrLivArea\", \"FullBath\", \"KitchenQual\", \n",
    "             \"Fireplaces\", \"GarageArea\", \"PoolArea\", \"MoSold\", \"LotConfig\"]\n",
    "y = df[\"SalePrice\"]\n",
    "X = df[x_columns]\n",
    "X_train, X_test, y_train, y_test = train_test_split (X, y, train_size = 0.85, random_state = 1)"
   ]
  },
  {
   "cell_type": "code",
   "execution_count": 227,
   "id": "1d095077",
   "metadata": {},
   "outputs": [
    {
     "name": "stdout",
     "output_type": "stream",
     "text": [
      "0.854991926514846\n"
     ]
    }
   ],
   "source": [
    "reg = LinearRegression() \n",
    "reg.fit(X_train, y_train)\n",
    "print(reg.score(X_test, y_test))"
   ]
  },
  {
   "cell_type": "code",
   "execution_count": 228,
   "id": "1bb25206",
   "metadata": {},
   "outputs": [
    {
     "name": "stdout",
     "output_type": "stream",
     "text": [
      "0.9125101478699436\n"
     ]
    }
   ],
   "source": [
    "#We run a boosting model.\n",
    "\n",
    "gb = GradientBoostingRegressor() \n",
    "gb.fit(X_train, y_train) \n",
    "print(gb.score(X_test, y_test))"
   ]
  },
  {
   "cell_type": "code",
   "execution_count": 229,
   "id": "3c83fcab",
   "metadata": {},
   "outputs": [
    {
     "name": "stdout",
     "output_type": "stream",
     "text": [
      "0.9155915418863367\n"
     ]
    }
   ],
   "source": [
    "forest_reg = RandomForestRegressor(random_state=1) \n",
    "forest_reg.fit(X_train, y_train) \n",
    "\n",
    "print(forest_reg.score(X_test, y_test))"
   ]
  },
  {
   "cell_type": "code",
   "execution_count": 230,
   "id": "942e64da",
   "metadata": {},
   "outputs": [
    {
     "name": "stderr",
     "output_type": "stream",
     "text": [
      "No handles with labels found to put in legend.\n"
     ]
    },
    {
     "name": "stdout",
     "output_type": "stream",
     "text": [
      "OverallQual      5.691456e-01\n",
      "GrLivArea        1.224363e-01\n",
      "1stFlrSF         6.239132e-02\n",
      "GarageArea       4.385880e-02\n",
      "2ndFlrSF         3.968730e-02\n",
      "YearBuilt        2.487346e-02\n",
      "LotArea          1.791957e-02\n",
      "YearRemodAdd     1.740258e-02\n",
      "LotArea          1.661379e-02\n",
      "Neighborhood     1.549757e-02\n",
      "FullBath         8.028194e-03\n",
      "MoSold           7.671510e-03\n",
      "ExterQual        5.646470e-03\n",
      "OverallCond      5.455349e-03\n",
      "KitchenQual      5.356456e-03\n",
      "Fireplaces       5.321779e-03\n",
      "Exterior1st      4.548464e-03\n",
      "YrSold           3.715979e-03\n",
      "MSZoning         3.562922e-03\n",
      "MSSubClass       2.870381e-03\n",
      "SaleType         2.700794e-03\n",
      "CentralAir       2.338455e-03\n",
      "LotConfig        1.960338e-03\n",
      "Foundation       1.959631e-03\n",
      "SaleCondition    1.937282e-03\n",
      "Functional       1.781634e-03\n",
      "PoolArea         1.561198e-03\n",
      "Condition1       1.092121e-03\n",
      "BldgType         9.967978e-04\n",
      "HouseStyle       9.612304e-04\n",
      "ExterCond        7.058336e-04\n",
      "Street           8.350991e-07\n",
      "dtype: float64\n"
     ]
    },
    {
     "data": {
      "image/png": "[encoded data removed]",
      "text/plain": [
       "<Figure size 1080x720 with 1 Axes>"
      ]
     },
     "metadata": {
      "needs_background": "light"
     },
     "output_type": "display_data"
    }
   ],
   "source": [
    "#We take our best model and look at the factors that were the most important in determining the Airbnb prices.\n",
    "\n",
    "feature_imp = pd.Series(forest_reg.feature_importances_,index=x_columns).sort_values(ascending=False)\n",
    "print(feature_imp)\n",
    "\n",
    "%matplotlib inline\n",
    "# Creating a bar plot\n",
    "plt.figure(figsize=(15,10))\n",
    "sns.barplot(x=feature_imp, y=feature_imp.index)\n",
    "# Add labels to your graph\n",
    "plt.xlabel('Feature Importance Score')\n",
    "plt.ylabel('Features')\n",
    "plt.title(\"Visualizing Important Features\")\n",
    "plt.legend()\n",
    "plt.show()"
   ]
  },
  {
   "cell_type": "code",
   "execution_count": null,
   "id": "496e0457",
   "metadata": {},
   "outputs": [],
   "source": []
  },
  {
   "cell_type": "code",
   "execution_count": null,
   "id": "836747cb",
   "metadata": {},
   "outputs": [],
   "source": []
  }
 ],
 "metadata": {
  "kernelspec": {
   "display_name": "Python 3 (ipykernel)",
   "language": "python",
   "name": "python3"
  },
  "language_info": {
   "codemirror_mode": {
    "name": "ipython",
    "version": 3
   },
   "file_extension": ".py",
   "mimetype": "text/x-python",
   "name": "python",
   "nbconvert_exporter": "python",
   "pygments_lexer": "ipython3",
   "version": "3.9.7"
  }
 },
 "nbformat": 4,
 "nbformat_minor": 5
}
